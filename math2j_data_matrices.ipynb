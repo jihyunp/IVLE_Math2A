{
 "cells": [
  {
   "cell_type": "code",
   "execution_count": null,
   "metadata": {
    "collapsed": false
   },
   "outputs": [],
   "source": [
    "import sys, os\n",
    "import numpy as np\n",
    "import csv\n",
    "from datetime import datetime, timedelta\n",
    "# for plotting\n",
    "import matplotlib.pyplot as plt\n",
    "import matplotlib\n",
    "matplotlib.style.use('classic')\n",
    "%matplotlib inline"
   ]
  },
  {
   "cell_type": "code",
   "execution_count": null,
   "metadata": {
    "collapsed": false
   },
   "outputs": [],
   "source": [
    "edu_dir = '/Users/jihyun/research/education/'\n",
    "course_id = 2755\n",
    "data_dir = os.path.join(edu_dir, 'data',str(course_id))\n",
    "print data_dir"
   ]
  },
  {
   "cell_type": "code",
   "execution_count": null,
   "metadata": {
    "collapsed": false
   },
   "outputs": [],
   "source": [
    "first_day = datetime(2016, 9, 15, 0, 0, 0)\n",
    "days_limit = 90  # total 90 days"
   ]
  },
  {
   "cell_type": "markdown",
   "metadata": {},
   "source": [
    "# Load csv clickstream data"
   ]
  },
  {
   "cell_type": "code",
   "execution_count": null,
   "metadata": {
    "collapsed": true
   },
   "outputs": [],
   "source": [
    "def get_cats_from_url(url, depth=1):\n",
    "\n",
    "    if not 0 < depth < 4:\n",
    "        raise ('ERROR! depth should be integers between 1 and 3!')\n",
    "\n",
    "    if url.endswith('/'):\n",
    "        url = url[:-1]\n",
    "    url = url.replace('api/v1/', '')\n",
    "\n",
    "    if len(url.split('/')) < 6:\n",
    "        return 'homepage'\n",
    "\n",
    "\n",
    "def load_csv(deidentified_data_dir):\n",
    "    \"\"\"\n",
    "    The de-identified CSV files should have the following columns\n",
    "        random_id, url_action, created_at, interaction_seconds, ip_address\n",
    "\n",
    "    \"\"\"\n",
    "\n",
    "    print('Loading csv files')\n",
    "    data = {}\n",
    "    index = 0\n",
    "    idx2id = []\n",
    "    id2idx = {}\n",
    "    ip2id = {}\n",
    "    date_format = \"%Y-%m-%dT%H:%M:%SZ\"\n",
    "\n",
    "    for file in os.listdir(deidentified_data_dir):\n",
    "        url = []\n",
    "        category = []\n",
    "        action = []\n",
    "        created_at = []\n",
    "        interact_secs = []\n",
    "        remote_ip = []\n",
    "\n",
    "        if file.endswith('csv'):\n",
    "            csv_file = os.path.join(deidentified_data_dir, file)\n",
    "            csv_reader = csv.reader(open(csv_file, 'r'))\n",
    "            next(csv_reader, None)\n",
    "            for line in csv_reader:\n",
    "                id = line[0]\n",
    "                ip = line[-1]\n",
    "                url.append(line[1])\n",
    "                category.append(get_cats_from_url(line[1]))\n",
    "                action.append(line[2])\n",
    "                # you need to subtract 7 hours to get the california time\n",
    "                created_at.append(datetime.strptime(line[3], date_format) - timedelta(0, 25200))\n",
    "                interact_secs.append(line[4])\n",
    "                remote_ip.append(ip)\n",
    "                if ip2id.get(ip, None) is None:\n",
    "                    ip2id[ip] = []\n",
    "                if int(id) not in ip2id[ip]:\n",
    "                    ip2id[ip].append(int(id))\n",
    "\n",
    "            id = int(id)\n",
    "            data[id] = {\"url\": url[::-1], \"category\": category[::-1], \"action\": action[::-1],\n",
    "                        \"created_at\": created_at[::-1],\n",
    "                        \"interact_secs\": interact_secs[::-1], \"remote_ip\": remote_ip[::-1]}\n",
    "            id2idx[id] = index\n",
    "            idx2id.append(id)\n",
    "            index += 1\n",
    "    n_students = index\n",
    "    print('Finished Loading')\n",
    "    return data, n_students, id2idx, idx2id, ip2id"
   ]
  },
  {
   "cell_type": "code",
   "execution_count": null,
   "metadata": {
    "collapsed": false
   },
   "outputs": [],
   "source": [
    "deid_data_dir = os.path.join(data_dir, 'deidentified') # path to the deidentified click data\n",
    "csv_data, n_students, id2idx, idx2id, ip2id = load_csv(deid_data_dir)"
   ]
  },
  {
   "cell_type": "code",
   "execution_count": null,
   "metadata": {
    "collapsed": false
   },
   "outputs": [],
   "source": [
    "# data checking\n",
    "print csv_data.keys()\n",
    "print csv_data[211456]"
   ]
  },
  {
   "cell_type": "markdown",
   "metadata": {},
   "source": [
    "# Get number of clicks per day matrix"
   ]
  },
  {
   "cell_type": "code",
   "execution_count": null,
   "metadata": {
    "collapsed": true
   },
   "outputs": [],
   "source": [
    "def get_num_clicks_per_day(student_data, days_limit, first_day, type='all'):\n",
    "    \"\"\"\n",
    "    Parameters\n",
    "    ----------\n",
    "    student_data : dict\n",
    "        dictionary for each student. (One entry of canvas_data.) It should have 'created_at' entry.\n",
    "\n",
    "    Returns\n",
    "    -------\n",
    "        np.array\n",
    "        numpy array with length 'days_limit'\n",
    "        Histogram (counts) of the student as a function of time.\n",
    "\n",
    "    \"\"\"\n",
    "    hist_array = np.zeros(days_limit, dtype=np.int32)\n",
    "    if type == 'all':  # Default\n",
    "        for time in student_data['created_at']:\n",
    "            delta = time - first_day\n",
    "            if delta.days < days_limit:\n",
    "                hist_array[delta.days] += 1\n",
    "    else:\n",
    "        for i, time in enumerate(student_data['created_at']):\n",
    "            cat = get_cats_from_url(student_data['url'][i], depth=1)\n",
    "            if cat == type:\n",
    "                delta = time - first_day\n",
    "                if delta.days < days_limit:\n",
    "                    hist_array[delta.days] += 1\n",
    "    return hist_array\n",
    "\n",
    "\n",
    "def get_num_clicks_per_day_mat(csvdata, n_students, days_limit, first_day, idx2id, type='all'):\n",
    "    \"\"\"\n",
    "    Get (num_student X num_days) matrix\n",
    "    where each row is the number of click events per day for each student.\n",
    "    Returns\n",
    "    -------\n",
    "        np.array\n",
    "\n",
    "    \"\"\"\n",
    "    clicks_per_day_mat = np.zeros((n_students, days_limit), dtype=np.int32)\n",
    "    for idx, random_id in enumerate(idx2id):\n",
    "        student = csvdata[random_id]\n",
    "        clicks_per_day_mat[idx] = get_num_clicks_per_day(student, days_limit, first_day, type)\n",
    "    return clicks_per_day_mat"
   ]
  },
  {
   "cell_type": "code",
   "execution_count": null,
   "metadata": {
    "collapsed": false
   },
   "outputs": [],
   "source": [
    "click_mat = get_num_clicks_per_day_mat(csv_data, n_students, days_limit, first_day, idx2id)\n",
    "print click_mat"
   ]
  },
  {
   "cell_type": "code",
   "execution_count": null,
   "metadata": {
    "collapsed": false
   },
   "outputs": [],
   "source": [
    "plt.bar(range(days_limit), np.mean(click_mat, axis=0))"
   ]
  },
  {
   "cell_type": "markdown",
   "metadata": {
    "collapsed": false
   },
   "source": [
    "# Load the quiz_url description file"
   ]
  },
  {
   "cell_type": "code",
   "execution_count": 137,
   "metadata": {
    "collapsed": false
   },
   "outputs": [],
   "source": [
    "qname2closedate05 = {}\n",
    "qname2closedate70 = {}\n",
    "qname2qidx = {}\n",
    "qidx2qname = []\n",
    "\n",
    "quiz_url_file = os.path.join(data_dir, 'quiz_url_descriptions.csv')\n",
    "with open(quiz_url_file, 'r') as f:\n",
    "    reader = csv.reader(f, delimiter=',')\n",
    "    header = reader.next()\n",
    "    for line in reader:\n",
    "        q_num = int(line[0])\n",
    "        q_name = line[1].split(\":\")[0]\n",
    "        q_pnts = line[2]\n",
    "        q_open_date05 = datetime.strptime(line[3], \"%m/%d/%Y %H:%M:%S\")\n",
    "        q_close_date05 = datetime.strptime(line[4], \"%m/%d/%Y %H:%M:%S\")\n",
    "        q_open_date70 = datetime.strptime(line[8], \"%m/%d/%Y %H:%M:%S\")\n",
    "        q_close_date70 = datetime.strptime(line[9], \"%m/%d/%Y %H:%M:%S\")\n",
    "        qname2closedate05[q_name] = q_close_date05\n",
    "        qname2closedate70[q_name] = q_close_date70\n",
    "        qname2qidx[q_name] = q_num-1\n",
    "        qidx2qname.append(q_name)"
   ]
  },
  {
   "cell_type": "code",
   "execution_count": 138,
   "metadata": {
    "collapsed": false,
    "scrolled": false
   },
   "outputs": [
    {
     "data": {
      "text/plain": [
       "{'Lesson 1A': datetime.datetime(2016, 9, 26, 10, 0),\n",
       " 'Lesson 1B': datetime.datetime(2016, 9, 26, 10, 0),\n",
       " 'Lesson 1D': datetime.datetime(2016, 9, 28, 10, 0),\n",
       " 'Lesson 2A': datetime.datetime(2016, 9, 30, 10, 0),\n",
       " 'Lesson 2B': datetime.datetime(2016, 10, 3, 10, 0),\n",
       " 'Lesson 2C': datetime.datetime(2016, 10, 5, 10, 0),\n",
       " 'Lesson 2D': datetime.datetime(2016, 10, 7, 10, 0),\n",
       " 'Lesson 2E': datetime.datetime(2016, 10, 12, 10, 0),\n",
       " 'Lesson 3A': datetime.datetime(2016, 10, 19, 10, 0),\n",
       " 'Lesson 3B': datetime.datetime(2016, 10, 21, 10, 0),\n",
       " 'Lesson 3C': datetime.datetime(2016, 10, 24, 10, 0),\n",
       " 'Lesson 3D': datetime.datetime(2016, 10, 26, 10, 0),\n",
       " 'Lesson 3E': datetime.datetime(2016, 10, 28, 10, 0),\n",
       " 'Lesson 3F': datetime.datetime(2016, 10, 31, 10, 0),\n",
       " 'Lesson 3G': datetime.datetime(2016, 11, 2, 10, 0),\n",
       " 'Lesson 4A': datetime.datetime(2016, 11, 9, 10, 0),\n",
       " 'Lesson 4B': datetime.datetime(2016, 11, 14, 10, 0),\n",
       " 'Lesson 4C': datetime.datetime(2016, 11, 18, 10, 0),\n",
       " 'Lesson 4D': datetime.datetime(2016, 11, 18, 10, 0),\n",
       " 'Lesson 4E': datetime.datetime(2016, 11, 21, 10, 0),\n",
       " 'Lesson 4F': datetime.datetime(2016, 11, 23, 10, 0),\n",
       " 'Lesson 4G': datetime.datetime(2016, 11, 28, 10, 0)}"
      ]
     },
     "execution_count": 138,
     "metadata": {},
     "output_type": "execute_result"
    }
   ],
   "source": [
    "qname2closedate05"
   ]
  },
  {
   "cell_type": "code",
   "execution_count": 139,
   "metadata": {
    "collapsed": false
   },
   "outputs": [
    {
     "data": {
      "text/plain": [
       "{'Lesson 1A': datetime.datetime(2016, 9, 26, 14, 0),\n",
       " 'Lesson 1B': datetime.datetime(2016, 9, 26, 14, 0),\n",
       " 'Lesson 1D': datetime.datetime(2016, 9, 28, 14, 0),\n",
       " 'Lesson 2A': datetime.datetime(2016, 9, 30, 14, 0),\n",
       " 'Lesson 2B': datetime.datetime(2016, 10, 3, 14, 0),\n",
       " 'Lesson 2C': datetime.datetime(2016, 10, 5, 14, 0),\n",
       " 'Lesson 2D': datetime.datetime(2016, 10, 7, 14, 0),\n",
       " 'Lesson 2E': datetime.datetime(2016, 10, 12, 14, 0),\n",
       " 'Lesson 3A': datetime.datetime(2016, 10, 19, 14, 0),\n",
       " 'Lesson 3B': datetime.datetime(2016, 10, 21, 14, 0),\n",
       " 'Lesson 3C': datetime.datetime(2016, 10, 24, 14, 0),\n",
       " 'Lesson 3D': datetime.datetime(2016, 10, 26, 14, 0),\n",
       " 'Lesson 3E': datetime.datetime(2016, 10, 28, 14, 0),\n",
       " 'Lesson 3F': datetime.datetime(2016, 10, 31, 14, 0),\n",
       " 'Lesson 3G': datetime.datetime(2016, 11, 2, 14, 0),\n",
       " 'Lesson 4A': datetime.datetime(2016, 11, 9, 14, 0),\n",
       " 'Lesson 4B': datetime.datetime(2016, 11, 14, 14, 0),\n",
       " 'Lesson 4C': datetime.datetime(2016, 11, 18, 14, 0),\n",
       " 'Lesson 4D': datetime.datetime(2016, 11, 18, 14, 0),\n",
       " 'Lesson 4E': datetime.datetime(2016, 11, 21, 14, 0),\n",
       " 'Lesson 4F': datetime.datetime(2016, 11, 23, 14, 0),\n",
       " 'Lesson 4G': datetime.datetime(2016, 11, 28, 14, 0)}"
      ]
     },
     "execution_count": 139,
     "metadata": {},
     "output_type": "execute_result"
    }
   ],
   "source": [
    "qname2closedate70"
   ]
  },
  {
   "cell_type": "code",
   "execution_count": 91,
   "metadata": {
    "collapsed": false
   },
   "outputs": [
    {
     "data": {
      "text/plain": [
       "{'Lesson 1A': 0,\n",
       " 'Lesson 1B': 1,\n",
       " 'Lesson 1D': 2,\n",
       " 'Lesson 2A': 3,\n",
       " 'Lesson 2B': 4,\n",
       " 'Lesson 2C': 5,\n",
       " 'Lesson 2D': 6,\n",
       " 'Lesson 2E': 7,\n",
       " 'Lesson 3A': 8,\n",
       " 'Lesson 3B': 9,\n",
       " 'Lesson 3C': 10,\n",
       " 'Lesson 3D': 11,\n",
       " 'Lesson 3E': 12,\n",
       " 'Lesson 3F': 13,\n",
       " 'Lesson 3G': 14,\n",
       " 'Lesson 4A': 15,\n",
       " 'Lesson 4B': 16,\n",
       " 'Lesson 4C': 18,\n",
       " 'Lesson 4D': 17,\n",
       " 'Lesson 4E': 19,\n",
       " 'Lesson 4F': 20,\n",
       " 'Lesson 4G': 21}"
      ]
     },
     "execution_count": 91,
     "metadata": {},
     "output_type": "execute_result"
    }
   ],
   "source": [
    "qname2qidx"
   ]
  },
  {
   "cell_type": "code",
   "execution_count": null,
   "metadata": {
    "collapsed": true
   },
   "outputs": [],
   "source": []
  },
  {
   "cell_type": "markdown",
   "metadata": {
    "collapsed": true
   },
   "source": [
    "# Load the quiz data "
   ]
  },
  {
   "cell_type": "code",
   "execution_count": 127,
   "metadata": {
    "collapsed": false
   },
   "outputs": [
    {
     "name": "stdout",
     "output_type": "stream",
     "text": [
      "Lesson 4D 6849 Jaymesha Janell Carter - attempt: 4\n",
      "Lesson 4D 201667 Jamilla Yasmin Abugazia - attempt: 4\n",
      "Lesson 4D 164841 Sofia Crisheil Cruz Dela Cruz - attempt: 4\n",
      "Lesson 4D 22212 Alexis Gu Meza Quinonez - attempt: 4\n",
      "Lesson 4D 205790 Nicolas Hong - attempt: 4\n",
      "Lesson 4D 204082 Jenny Xie Ng - attempt: 5\n",
      "Lesson 4D 204082 Jenny Xie Ng - attempt: 4\n",
      "Lesson 4D 204066 Xilu Zhang - attempt: 5\n",
      "Lesson 4D 204066 Xilu Zhang - attempt: 4\n",
      "Lesson 4G 6849 Jaymesha Janell Carter - attempt: 4\n"
     ]
    }
   ],
   "source": [
    "cid2qsubs = {} # cid to quiz submissions.\n",
    "cid2section = {}\n",
    "quiz_data_dir = os.path.join(data_dir, 'Quiz Data')\n",
    "for fname in os.listdir(quiz_data_dir):\n",
    "    qname = fname.split(\"- \")[0]\n",
    "    filepath = os.path.join(quiz_data_dir, fname)\n",
    "    \n",
    "    with open(filepath, 'r') as f:\n",
    "        reader = csv.reader(f)\n",
    "        header = reader.next()\n",
    "        for line in reader:\n",
    "            cid = int(line[1])\n",
    "            section = int(line[5].split('-')[-1])\n",
    "            tstr = line[6]\n",
    "            submit_time = datetime.strptime(tstr, \"%Y-%m-%d %H:%M:%S UTC\") - timedelta(hours=7) # to pst time\n",
    "            attempt = int(line[7])-1 # to use as an index, start with 0\n",
    "            \n",
    "            # mapping\n",
    "            cid2section[cid]= section\n",
    "            \n",
    "            if cid not in cid2qsubs:\n",
    "                cid2qsubs[cid] = {}\n",
    "            if qname not in cid2qsubs[cid]:\n",
    "                cid2qsubs[cid][qname] = [None] * 5\n",
    "                \n",
    "            cid2qsubs[cid][qname][attempt] = submit_time\n",
    "            if attempt >= 3:\n",
    "                print qname, cid, line[0], \"- attempt:\", attempt+1 "
   ]
  },
  {
   "cell_type": "code",
   "execution_count": 114,
   "metadata": {
    "collapsed": false,
    "scrolled": true
   },
   "outputs": [
    {
     "data": {
      "text/plain": [
       "{'Lesson 1A': [datetime.datetime(2016, 9, 24, 18, 26, 46),\n",
       "  datetime.datetime(2016, 9, 24, 18, 27, 32),\n",
       "  None,\n",
       "  None,\n",
       "  None],\n",
       " 'Lesson 1B': [datetime.datetime(2016, 9, 24, 18, 38, 7),\n",
       "  datetime.datetime(2016, 9, 24, 18, 39, 21),\n",
       "  None,\n",
       "  None,\n",
       "  None],\n",
       " 'Lesson 1D': [datetime.datetime(2016, 9, 26, 22, 44, 33),\n",
       "  datetime.datetime(2016, 9, 26, 22, 46, 30),\n",
       "  datetime.datetime(2016, 9, 26, 22, 52, 46),\n",
       "  None,\n",
       "  None],\n",
       " 'Lesson 2A': [datetime.datetime(2016, 9, 28, 22, 16, 13),\n",
       "  None,\n",
       "  None,\n",
       "  None,\n",
       "  None],\n",
       " 'Lesson 2B': [datetime.datetime(2016, 9, 30, 15, 41, 32),\n",
       "  None,\n",
       "  None,\n",
       "  None,\n",
       "  None],\n",
       " 'Lesson 2C': [datetime.datetime(2016, 10, 3, 18, 35, 26),\n",
       "  None,\n",
       "  None,\n",
       "  None,\n",
       "  None],\n",
       " 'Lesson 2D': [datetime.datetime(2016, 10, 5, 17, 47, 14),\n",
       "  datetime.datetime(2016, 10, 5, 17, 47, 57),\n",
       "  None,\n",
       "  None,\n",
       "  None],\n",
       " 'Lesson 2E': [datetime.datetime(2016, 10, 7, 19, 48, 52),\n",
       "  datetime.datetime(2016, 10, 7, 19, 50, 17),\n",
       "  None,\n",
       "  None,\n",
       "  None],\n",
       " 'Lesson 3A': [datetime.datetime(2016, 10, 18, 16, 8, 56),\n",
       "  datetime.datetime(2016, 10, 18, 16, 9, 29),\n",
       "  None,\n",
       "  None,\n",
       "  None],\n",
       " 'Lesson 3B': [datetime.datetime(2016, 10, 19, 21, 23, 12),\n",
       "  None,\n",
       "  None,\n",
       "  None,\n",
       "  None],\n",
       " 'Lesson 3C': [datetime.datetime(2016, 10, 21, 18, 54, 21),\n",
       "  None,\n",
       "  None,\n",
       "  None,\n",
       "  None],\n",
       " 'Lesson 3D': [datetime.datetime(2016, 10, 24, 17, 54, 39),\n",
       "  None,\n",
       "  None,\n",
       "  None,\n",
       "  None],\n",
       " 'Lesson 3E': [datetime.datetime(2016, 10, 26, 20, 16, 24),\n",
       "  None,\n",
       "  None,\n",
       "  None,\n",
       "  None],\n",
       " 'Lesson 3F': [datetime.datetime(2016, 10, 28, 20, 28, 33),\n",
       "  datetime.datetime(2016, 10, 28, 20, 32, 39),\n",
       "  datetime.datetime(2016, 10, 30, 12, 20, 9),\n",
       "  None,\n",
       "  None],\n",
       " 'Lesson 3G': [datetime.datetime(2016, 10, 31, 20, 36, 7),\n",
       "  None,\n",
       "  None,\n",
       "  None,\n",
       "  None],\n",
       " 'Lesson 4A': [datetime.datetime(2016, 11, 7, 19, 15, 8),\n",
       "  None,\n",
       "  None,\n",
       "  None,\n",
       "  None],\n",
       " 'Lesson 4B': [datetime.datetime(2016, 11, 9, 21, 15, 30),\n",
       "  None,\n",
       "  None,\n",
       "  None,\n",
       "  None],\n",
       " 'Lesson 4C': [datetime.datetime(2016, 11, 14, 19, 33, 4),\n",
       "  datetime.datetime(2016, 11, 14, 19, 35, 57),\n",
       "  datetime.datetime(2016, 11, 14, 19, 39, 55),\n",
       "  None,\n",
       "  None],\n",
       " 'Lesson 4D': [datetime.datetime(2016, 11, 16, 19, 57, 25),\n",
       "  datetime.datetime(2016, 11, 16, 22, 0, 54),\n",
       "  datetime.datetime(2016, 11, 16, 22, 1, 27),\n",
       "  datetime.datetime(2016, 11, 16, 22, 1, 52),\n",
       "  datetime.datetime(2016, 11, 16, 22, 2, 14)],\n",
       " 'Lesson 4E': [datetime.datetime(2016, 11, 20, 0, 35, 1),\n",
       "  None,\n",
       "  None,\n",
       "  None,\n",
       "  None],\n",
       " 'Lesson 4F': [datetime.datetime(2016, 11, 21, 21, 40, 20),\n",
       "  None,\n",
       "  None,\n",
       "  None,\n",
       "  None],\n",
       " 'Lesson 4G': [datetime.datetime(2016, 11, 24, 22, 24, 15),\n",
       "  None,\n",
       "  None,\n",
       "  None,\n",
       "  None]}"
      ]
     },
     "execution_count": 114,
     "metadata": {},
     "output_type": "execute_result"
    }
   ],
   "source": [
    "# sample output for a single student with id 6849\n",
    "cid2qsubs[204066]"
   ]
  },
  {
   "cell_type": "code",
   "execution_count": 117,
   "metadata": {
    "collapsed": false
   },
   "outputs": [
    {
     "data": {
      "text/plain": [
       "[datetime.datetime(2016, 11, 16, 19, 57, 25),\n",
       " datetime.datetime(2016, 11, 16, 22, 0, 54),\n",
       " datetime.datetime(2016, 11, 16, 22, 1, 27),\n",
       " datetime.datetime(2016, 11, 16, 22, 1, 52),\n",
       " datetime.datetime(2016, 11, 16, 22, 2, 14)]"
      ]
     },
     "execution_count": 117,
     "metadata": {},
     "output_type": "execute_result"
    }
   ],
   "source": [
    "cid2qsubs[204066]['Lesson 4D']"
   ]
  },
  {
   "cell_type": "markdown",
   "metadata": {},
   "source": [
    "# Create a quiz submission matrix to save"
   ]
  },
  {
   "cell_type": "code",
   "execution_count": 192,
   "metadata": {
    "collapsed": true
   },
   "outputs": [],
   "source": [
    "# number of colums per quiz\n",
    "# Change this to 3 and run the cells after this to have 3 cols each\n",
    "ncols = 5"
   ]
  },
  {
   "cell_type": "code",
   "execution_count": 193,
   "metadata": {
    "collapsed": false
   },
   "outputs": [],
   "source": [
    "Nquiz = len(qname2qidx)\n",
    "subdates = []\n",
    "for cid in cid2qsubs.keys():\n",
    "    row = [None] * (Nquiz*ncols + 1)\n",
    "    for qname in cid2qsubs[cid].keys():\n",
    "        qidx = qname2qidx[qname]\n",
    "        row[0] = cid\n",
    "        col_st_idx = qidx*ncols + 1\n",
    "        col_end_idx = qidx*ncols + ncols + 1\n",
    "        row[col_st_idx:col_end_idx] = cid2qsubs[cid][qname][:ncols]\n",
    "    subdates.append(row)"
   ]
  },
  {
   "cell_type": "code",
   "execution_count": 194,
   "metadata": {
    "collapsed": false,
    "scrolled": true
   },
   "outputs": [
    {
     "data": {
      "text/plain": [
       "[202240,\n",
       " datetime.datetime(2016, 9, 24, 17, 25, 16),\n",
       " None,\n",
       " None,\n",
       " None,\n",
       " None,\n",
       " datetime.datetime(2016, 9, 24, 17, 39, 17),\n",
       " datetime.datetime(2016, 9, 24, 17, 41, 3),\n",
       " datetime.datetime(2016, 9, 24, 17, 42, 54),\n",
       " None,\n",
       " None,\n",
       " datetime.datetime(2016, 9, 27, 15, 3, 53),\n",
       " datetime.datetime(2016, 9, 27, 15, 4, 33),\n",
       " None,\n",
       " None,\n",
       " None,\n",
       " datetime.datetime(2016, 9, 29, 17, 5, 34),\n",
       " datetime.datetime(2016, 9, 29, 17, 6, 38),\n",
       " None,\n",
       " None,\n",
       " None,\n",
       " datetime.datetime(2016, 10, 2, 4, 39, 57),\n",
       " None,\n",
       " None,\n",
       " None,\n",
       " None,\n",
       " datetime.datetime(2016, 10, 3, 20, 39, 4),\n",
       " datetime.datetime(2016, 10, 3, 20, 39, 31),\n",
       " None,\n",
       " None,\n",
       " None,\n",
       " datetime.datetime(2016, 10, 6, 2, 31, 34),\n",
       " datetime.datetime(2016, 10, 6, 2, 32, 29),\n",
       " None,\n",
       " None,\n",
       " None,\n",
       " datetime.datetime(2016, 10, 11, 18, 12, 22),\n",
       " None,\n",
       " None,\n",
       " None,\n",
       " None,\n",
       " datetime.datetime(2016, 10, 19, 0, 7, 25),\n",
       " datetime.datetime(2016, 10, 19, 0, 7, 59),\n",
       " None,\n",
       " None,\n",
       " None,\n",
       " datetime.datetime(2016, 10, 20, 21, 48, 52),\n",
       " datetime.datetime(2016, 10, 20, 21, 52, 41),\n",
       " datetime.datetime(2016, 10, 20, 21, 55, 12),\n",
       " None,\n",
       " None,\n",
       " datetime.datetime(2016, 10, 21, 21, 46, 10),\n",
       " None,\n",
       " None,\n",
       " None,\n",
       " None,\n",
       " datetime.datetime(2016, 10, 25, 14, 58, 11),\n",
       " datetime.datetime(2016, 10, 25, 15, 0, 35),\n",
       " datetime.datetime(2016, 10, 25, 15, 2, 30),\n",
       " None,\n",
       " None,\n",
       " datetime.datetime(2016, 10, 27, 20, 55, 52),\n",
       " datetime.datetime(2016, 10, 27, 20, 56, 45),\n",
       " datetime.datetime(2016, 10, 27, 21, 1, 24),\n",
       " None,\n",
       " None,\n",
       " datetime.datetime(2016, 10, 29, 17, 11, 3),\n",
       " datetime.datetime(2016, 10, 29, 17, 13, 52),\n",
       " datetime.datetime(2016, 10, 29, 17, 17, 22),\n",
       " None,\n",
       " None,\n",
       " datetime.datetime(2016, 11, 1, 21, 15, 44),\n",
       " None,\n",
       " None,\n",
       " None,\n",
       " None,\n",
       " datetime.datetime(2016, 11, 9, 13, 6, 12),\n",
       " None,\n",
       " None,\n",
       " None,\n",
       " None,\n",
       " None,\n",
       " None,\n",
       " None,\n",
       " None,\n",
       " None,\n",
       " None,\n",
       " None,\n",
       " None,\n",
       " None,\n",
       " None,\n",
       " datetime.datetime(2016, 11, 15, 22, 42, 34),\n",
       " datetime.datetime(2016, 11, 15, 22, 43, 14),\n",
       " datetime.datetime(2016, 11, 15, 22, 45, 19),\n",
       " None,\n",
       " None,\n",
       " datetime.datetime(2016, 11, 21, 0, 37, 15),\n",
       " None,\n",
       " None,\n",
       " None,\n",
       " None,\n",
       " None,\n",
       " None,\n",
       " None,\n",
       " None,\n",
       " None,\n",
       " datetime.datetime(2016, 11, 27, 0, 20, 33),\n",
       " None,\n",
       " None,\n",
       " None,\n",
       " None]"
      ]
     },
     "execution_count": 194,
     "metadata": {},
     "output_type": "execute_result"
    }
   ],
   "source": [
    "# sample output for row 0\n",
    "subdates[0]"
   ]
  },
  {
   "cell_type": "code",
   "execution_count": 195,
   "metadata": {
    "collapsed": false
   },
   "outputs": [
    {
     "name": "stdout",
     "output_type": "stream",
     "text": [
      "['canvasid', 'quiz1submit1', 'quiz1submit2', 'quiz1submit3', 'quiz1submit4', 'quiz1submit5', 'quiz2submit1', 'quiz2submit2', 'quiz2submit3', 'quiz2submit4', 'quiz2submit5', 'quiz3submit1', 'quiz3submit2', 'quiz3submit3', 'quiz3submit4', 'quiz3submit5', 'quiz4submit1', 'quiz4submit2', 'quiz4submit3', 'quiz4submit4', 'quiz4submit5', 'quiz5submit1', 'quiz5submit2', 'quiz5submit3', 'quiz5submit4', 'quiz5submit5', 'quiz6submit1', 'quiz6submit2', 'quiz6submit3', 'quiz6submit4', 'quiz6submit5', 'quiz7submit1', 'quiz7submit2', 'quiz7submit3', 'quiz7submit4', 'quiz7submit5', 'quiz8submit1', 'quiz8submit2', 'quiz8submit3', 'quiz8submit4', 'quiz8submit5', 'quiz9submit1', 'quiz9submit2', 'quiz9submit3', 'quiz9submit4', 'quiz9submit5', 'quiz10submit1', 'quiz10submit2', 'quiz10submit3', 'quiz10submit4', 'quiz10submit5', 'quiz11submit1', 'quiz11submit2', 'quiz11submit3', 'quiz11submit4', 'quiz11submit5', 'quiz12submit1', 'quiz12submit2', 'quiz12submit3', 'quiz12submit4', 'quiz12submit5', 'quiz13submit1', 'quiz13submit2', 'quiz13submit3', 'quiz13submit4', 'quiz13submit5', 'quiz14submit1', 'quiz14submit2', 'quiz14submit3', 'quiz14submit4', 'quiz14submit5', 'quiz15submit1', 'quiz15submit2', 'quiz15submit3', 'quiz15submit4', 'quiz15submit5', 'quiz16submit1', 'quiz16submit2', 'quiz16submit3', 'quiz16submit4', 'quiz16submit5', 'quiz17submit1', 'quiz17submit2', 'quiz17submit3', 'quiz17submit4', 'quiz17submit5', 'quiz18submit1', 'quiz18submit2', 'quiz18submit3', 'quiz18submit4', 'quiz18submit5', 'quiz19submit1', 'quiz19submit2', 'quiz19submit3', 'quiz19submit4', 'quiz19submit5', 'quiz20submit1', 'quiz20submit2', 'quiz20submit3', 'quiz20submit4', 'quiz20submit5', 'quiz21submit1', 'quiz21submit2', 'quiz21submit3', 'quiz21submit4', 'quiz21submit5', 'quiz22submit1', 'quiz22submit2', 'quiz22submit3', 'quiz22submit4', 'quiz22submit5']\n"
     ]
    }
   ],
   "source": [
    "# create header\n",
    "header = [\"canvasid\"] + [\"quiz\"+str(i+1)+\"submit\"+str(j+1) for i in range(Nquiz) for j in range(ncols)]\n",
    "print header"
   ]
  },
  {
   "cell_type": "code",
   "execution_count": 196,
   "metadata": {
    "collapsed": true
   },
   "outputs": [],
   "source": [
    "# save the data matrix\n",
    "outfile = \"./quiz_submissions.csv\"\n",
    "with open(outfile, 'w') as f:\n",
    "    writer = csv.writer(f, delimiter=\",\")\n",
    "    writer.writerow(header)\n",
    "    writer.writerows(subdates)"
   ]
  },
  {
   "cell_type": "code",
   "execution_count": null,
   "metadata": {
    "collapsed": true
   },
   "outputs": [],
   "source": []
  },
  {
   "cell_type": "markdown",
   "metadata": {},
   "source": [
    "# Time prior to the deadline matrix"
   ]
  },
  {
   "cell_type": "code",
   "execution_count": 159,
   "metadata": {
    "collapsed": false
   },
   "outputs": [],
   "source": [
    "delta_prior_due = []\n",
    "\n",
    "for cid in cid2qsubs.keys():\n",
    "    row = [None] * (Nquiz + 2)\n",
    "    sectid = cid2section[cid]\n",
    "    row[0] = cid\n",
    "    row[1] = sectid\n",
    "    \n",
    "    for qname in cid2qsubs[cid].keys():\n",
    "        qidx = qname2qidx[qname]\n",
    "        if sectid == 44170:\n",
    "            due = qname2closedate70[qname]\n",
    "        else:  # 44205\n",
    "            due = qname2closedate05[qname]\n",
    "        \n",
    "        last_dt = None\n",
    "        for dt in cid2qsubs[cid][qname][::-1]:\n",
    "            if dt != None:\n",
    "                last_dt = dt\n",
    "                 \n",
    "        delta = due - last_dt\n",
    "        tot_sec = delta.total_seconds()\n",
    "        hr = tot_sec // 3600\n",
    "        left = tot_sec % 3600\n",
    "        minu = left // 60\n",
    "        sec = left % 60\n",
    "        delta_str = \"%02d:%02d:%02d\" % (hr, minu, sec)\n",
    "   \n",
    "#         print cid, sectid, qname, delta_str\n",
    "        row[qidx+2] = delta_str\n",
    "    \n",
    "    delta_prior_due.append(row)"
   ]
  },
  {
   "cell_type": "code",
   "execution_count": 164,
   "metadata": {
    "collapsed": false
   },
   "outputs": [
    {
     "data": {
      "text/plain": [
       "[202240,\n",
       " 44170,\n",
       " '44:34:44',\n",
       " '44:20:43',\n",
       " '22:56:07',\n",
       " '20:54:26',\n",
       " '33:20:03',\n",
       " '41:20:56',\n",
       " '35:28:26',\n",
       " '19:47:38',\n",
       " '13:52:35',\n",
       " '16:11:08',\n",
       " '64:13:50',\n",
       " '23:01:49',\n",
       " '17:04:08',\n",
       " '44:48:57',\n",
       " '16:44:16',\n",
       " '00:53:48',\n",
       " None,\n",
       " None,\n",
       " '63:17:26',\n",
       " '13:22:45',\n",
       " None,\n",
       " '37:39:27']"
      ]
     },
     "execution_count": 164,
     "metadata": {},
     "output_type": "execute_result"
    }
   ],
   "source": [
    "delta_prior_due[0]"
   ]
  },
  {
   "cell_type": "code",
   "execution_count": 168,
   "metadata": {
    "collapsed": false
   },
   "outputs": [
    {
     "name": "stdout",
     "output_type": "stream",
     "text": [
      "1 day, 13:39:27\n"
     ]
    }
   ],
   "source": [
    "## sanity check \n",
    "\n",
    "# 202240, 44170\n",
    "# lesson 4g\n",
    "# sub : datetime(2016, 11, 27, 0, 20, 33)\n",
    "# due : datetime(2016, 11, 28, 14, 0)\n",
    "\n",
    "print (datetime(2016, 11, 28, 14, 0) - datetime(2016, 11, 27, 0, 20, 33) )"
   ]
  },
  {
   "cell_type": "code",
   "execution_count": 170,
   "metadata": {
    "collapsed": false
   },
   "outputs": [
    {
     "name": "stdout",
     "output_type": "stream",
     "text": [
      "['canvasid', 'section', 'quiz1', 'quiz2', 'quiz3', 'quiz4', 'quiz5', 'quiz6', 'quiz7', 'quiz8', 'quiz9', 'quiz10', 'quiz11', 'quiz12', 'quiz13', 'quiz14', 'quiz15', 'quiz16', 'quiz17', 'quiz18', 'quiz19', 'quiz20', 'quiz21', 'quiz22']\n"
     ]
    }
   ],
   "source": [
    "# create header\n",
    "header = [\"canvasid\", \"section\"] + [\"quiz\"+str(i+1) for i in range(Nquiz)]\n",
    "print header"
   ]
  },
  {
   "cell_type": "code",
   "execution_count": 172,
   "metadata": {
    "collapsed": true
   },
   "outputs": [],
   "source": [
    "# save the data matrix\n",
    "outfile = \"./quiz_time_prior_due.csv\"\n",
    "with open(outfile, 'w') as f:\n",
    "    writer = csv.writer(f, delimiter=\",\")\n",
    "    writer.writerow(header)\n",
    "    writer.writerows(delta_prior_due)"
   ]
  },
  {
   "cell_type": "code",
   "execution_count": null,
   "metadata": {
    "collapsed": true
   },
   "outputs": [],
   "source": []
  }
 ],
 "metadata": {
  "anaconda-cloud": {},
  "kernelspec": {
   "display_name": "Python [conda root]",
   "language": "python",
   "name": "conda-root-py"
  },
  "language_info": {
   "codemirror_mode": {
    "name": "ipython",
    "version": 2
   },
   "file_extension": ".py",
   "mimetype": "text/x-python",
   "name": "python",
   "nbconvert_exporter": "python",
   "pygments_lexer": "ipython2",
   "version": "2.7.12"
  }
 },
 "nbformat": 4,
 "nbformat_minor": 0
}
