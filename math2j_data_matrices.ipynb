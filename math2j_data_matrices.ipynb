{
 "cells": [
  {
   "cell_type": "code",
   "execution_count": null,
   "metadata": {
    "collapsed": false
   },
   "outputs": [],
   "source": [
    "import sys, os\n",
    "import numpy as np\n",
    "import csv\n",
    "from datetime import datetime, timedelta\n",
    "# for plotting\n",
    "import matplotlib.pyplot as plt\n",
    "import matplotlib\n",
    "matplotlib.style.use('classic')\n",
    "%matplotlib inline"
   ]
  },
  {
   "cell_type": "code",
   "execution_count": 15,
   "metadata": {
    "collapsed": false
   },
   "outputs": [
    {
     "name": "stdout",
     "output_type": "stream",
     "text": [
      "/Users/jihyun/research/education/data/2755\n"
     ]
    }
   ],
   "source": [
    "edu_dir = '/Users/jihyun/research/education/'\n",
    "course_id = 2755\n",
    "data_dir = os.path.join(edu_dir, 'data',str(course_id))\n",
    "print data_dir"
   ]
  },
  {
   "cell_type": "code",
   "execution_count": 8,
   "metadata": {
    "collapsed": false
   },
   "outputs": [],
   "source": [
    "first_day = datetime(2016, 9, 15, 0, 0, 0)\n",
    "days_limit = 90  # total 90 days"
   ]
  },
  {
   "cell_type": "markdown",
   "metadata": {},
   "source": [
    "# Load csv clickstream data"
   ]
  },
  {
   "cell_type": "code",
   "execution_count": 13,
   "metadata": {
    "collapsed": true
   },
   "outputs": [],
   "source": [
    "def get_cats_from_url(url, depth=1):\n",
    "\n",
    "    if not 0 < depth < 4:\n",
    "        raise ('ERROR! depth should be integers between 1 and 3!')\n",
    "\n",
    "    if url.endswith('/'):\n",
    "        url = url[:-1]\n",
    "    url = url.replace('api/v1/', '')\n",
    "\n",
    "    if len(url.split('/')) < 6:\n",
    "        return 'homepage'\n",
    "\n",
    "\n",
    "def load_csv(deidentified_data_dir):\n",
    "    \"\"\"\n",
    "    The de-identified CSV files should have the following columns\n",
    "        random_id, url_action, created_at, interaction_seconds, ip_address\n",
    "\n",
    "    \"\"\"\n",
    "\n",
    "    print('Loading csv files')\n",
    "    data = {}\n",
    "    index = 0\n",
    "    idx2id = []\n",
    "    id2idx = {}\n",
    "    ip2id = {}\n",
    "    date_format = \"%Y-%m-%dT%H:%M:%SZ\"\n",
    "\n",
    "    for file in os.listdir(deidentified_data_dir):\n",
    "        url = []\n",
    "        category = []\n",
    "        action = []\n",
    "        created_at = []\n",
    "        interact_secs = []\n",
    "        remote_ip = []\n",
    "\n",
    "        if file.endswith('csv'):\n",
    "            csv_file = os.path.join(deidentified_data_dir, file)\n",
    "            csv_reader = csv.reader(open(csv_file, 'r'))\n",
    "            next(csv_reader, None)\n",
    "            for line in csv_reader:\n",
    "                id = line[0]\n",
    "                ip = line[-1]\n",
    "                url.append(line[1])\n",
    "                category.append(get_cats_from_url(line[1]))\n",
    "                action.append(line[2])\n",
    "                # you need to subtract 7 hours to get the california time\n",
    "                created_at.append(datetime.strptime(line[3], date_format) - timedelta(0, 25200))\n",
    "                interact_secs.append(line[4])\n",
    "                remote_ip.append(ip)\n",
    "                if ip2id.get(ip, None) is None:\n",
    "                    ip2id[ip] = []\n",
    "                if int(id) not in ip2id[ip]:\n",
    "                    ip2id[ip].append(int(id))\n",
    "\n",
    "            id = int(id)\n",
    "            data[id] = {\"url\": url[::-1], \"category\": category[::-1], \"action\": action[::-1],\n",
    "                        \"created_at\": created_at[::-1],\n",
    "                        \"interact_secs\": interact_secs[::-1], \"remote_ip\": remote_ip[::-1]}\n",
    "            id2idx[id] = index\n",
    "            idx2id.append(id)\n",
    "            index += 1\n",
    "    n_students = index\n",
    "    print('Finished Loading')\n",
    "    return data, n_students, id2idx, idx2id, ip2id"
   ]
  },
  {
   "cell_type": "code",
   "execution_count": 14,
   "metadata": {
    "collapsed": false
   },
   "outputs": [
    {
     "name": "stdout",
     "output_type": "stream",
     "text": [
      "Loading csv files\n",
      "Finished Loading\n"
     ]
    }
   ],
   "source": [
    "deid_data_dir = os.path.join(data_dir, 'deidentified') # path to the deidentified click data\n",
    "csv_data, n_students, id2idx, idx2id, ip2id = load_csv(deid_data_dir)"
   ]
  },
  {
   "cell_type": "code",
   "execution_count": null,
   "metadata": {
    "collapsed": false
   },
   "outputs": [],
   "source": [
    "# data checking\n",
    "print csv_data.keys()\n",
    "print csv_data[211456]"
   ]
  },
  {
   "cell_type": "markdown",
   "metadata": {},
   "source": [
    "# Get number of clicks per day matrix"
   ]
  },
  {
   "cell_type": "code",
   "execution_count": 24,
   "metadata": {
    "collapsed": true
   },
   "outputs": [],
   "source": [
    "def get_num_clicks_per_day(student_data, days_limit, first_day, type='all'):\n",
    "    \"\"\"\n",
    "    Parameters\n",
    "    ----------\n",
    "    student_data : dict\n",
    "        dictionary for each student. (One entry of canvas_data.) It should have 'created_at' entry.\n",
    "\n",
    "    Returns\n",
    "    -------\n",
    "        np.array\n",
    "        numpy array with length 'days_limit'\n",
    "        Histogram (counts) of the student as a function of time.\n",
    "\n",
    "    \"\"\"\n",
    "    hist_array = np.zeros(days_limit, dtype=np.int32)\n",
    "    if type == 'all':  # Default\n",
    "        for time in student_data['created_at']:\n",
    "            delta = time - first_day\n",
    "            if delta.days < days_limit:\n",
    "                hist_array[delta.days] += 1\n",
    "    else:\n",
    "        for i, time in enumerate(student_data['created_at']):\n",
    "            cat = get_cats_from_url(student_data['url'][i], depth=1)\n",
    "            if cat == type:\n",
    "                delta = time - first_day\n",
    "                if delta.days < days_limit:\n",
    "                    hist_array[delta.days] += 1\n",
    "    return hist_array\n",
    "\n",
    "\n",
    "def get_num_clicks_per_day_mat(csvdata, n_students, days_limit, first_day, idx2id, type='all'):\n",
    "    \"\"\"\n",
    "    Get (num_student X num_days) matrix\n",
    "    where each row is the number of click events per day for each student.\n",
    "    Returns\n",
    "    -------\n",
    "        np.array\n",
    "\n",
    "    \"\"\"\n",
    "    clicks_per_day_mat = np.zeros((n_students, days_limit), dtype=np.int32)\n",
    "    for idx, random_id in enumerate(idx2id):\n",
    "        student = csvdata[random_id]\n",
    "        clicks_per_day_mat[idx] = get_num_clicks_per_day(student, days_limit, first_day, type)\n",
    "    return clicks_per_day_mat"
   ]
  },
  {
   "cell_type": "code",
   "execution_count": 26,
   "metadata": {
    "collapsed": false
   },
   "outputs": [
    {
     "name": "stdout",
     "output_type": "stream",
     "text": [
      "[[0 0 0 ..., 0 0 0]\n",
      " [0 0 0 ..., 0 0 2]\n",
      " [0 0 0 ..., 0 0 0]\n",
      " ..., \n",
      " [0 0 0 ..., 0 0 0]\n",
      " [0 0 0 ..., 0 0 0]\n",
      " [0 0 0 ..., 0 0 0]]\n"
     ]
    }
   ],
   "source": [
    "click_mat = get_num_clicks_per_day_mat(csv_data, n_students, days_limit, first_day, idx2id)\n",
    "print click_mat"
   ]
  },
  {
   "cell_type": "code",
   "execution_count": 27,
   "metadata": {
    "collapsed": false
   },
   "outputs": [
    {
     "data": {
      "text/plain": [
       "<Container object of 90 artists>"
      ]
     },
     "execution_count": 27,
     "metadata": {},
     "output_type": "execute_result"
    },
    {
     "data": {
      "image/png": "[encoded data removed]",
      "text/plain": [
       "<matplotlib.figure.Figure at 0x105c20850>"
      ]
     },
     "metadata": {},
     "output_type": "display_data"
    }
   ],
   "source": [
    "plt.bar(range(days_limit), np.mean(click_mat, axis=0))"
   ]
  },
  {
   "cell_type": "markdown",
   "metadata": {
    "collapsed": false
   },
   "source": [
    "# Load the quiz_url description file"
   ]
  },
  {
   "cell_type": "code",
   "execution_count": 33,
   "metadata": {
    "collapsed": false
   },
   "outputs": [],
   "source": [
    "quiz_url_file = os.path.join(data_dir, 'quiz_url_descriptions.csv')\n",
    "with open(quiz_url_file, 'r') as f:\n",
    "    reader = csv.reader(f, delimiter=',')\n",
    "    header = reader.next()\n",
    "    for line in reader:\n",
    "        q_num = line[0]\n",
    "        q_name = line[1]\n",
    "        q_pnts = line[2]\n",
    "        q_open_date = line[3]\n",
    "        break"
   ]
  },
  {
   "cell_type": "code",
   "execution_count": 34,
   "metadata": {
    "collapsed": false
   },
   "outputs": [
    {
     "data": {
      "text/plain": [
       "'Sep 23, 2016 at 10:50am'"
      ]
     },
     "execution_count": 34,
     "metadata": {},
     "output_type": "execute_result"
    }
   ],
   "source": [
    "q_open_date"
   ]
  },
  {
   "cell_type": "code",
   "execution_count": 37,
   "metadata": {
    "collapsed": false
   },
   "outputs": [
    {
     "name": "stdout",
     "output_type": "stream",
     "text": [
      "Help on built-in function strptime:\n",
      "\n",
      "strptime(...)\n",
      "    string, format -> new datetime parsed from a string (like time.strptime()).\n",
      "\n"
     ]
    }
   ],
   "source": [
    "help(datetime.strptime)"
   ]
  },
  {
   "cell_type": "code",
   "execution_count": 42,
   "metadata": {
    "collapsed": false
   },
   "outputs": [
    {
     "data": {
      "text/plain": [
       "datetime.datetime(2016, 9, 23, 10, 50)"
      ]
     },
     "execution_count": 42,
     "metadata": {},
     "output_type": "execute_result"
    }
   ],
   "source": [
    "datetime.strptime(q_open_date, \"%b %d, %Y at %I:%M%p\")"
   ]
  },
  {
   "cell_type": "code",
   "execution_count": null,
   "metadata": {
    "collapsed": true
   },
   "outputs": [],
   "source": []
  }
 ],
 "metadata": {
  "anaconda-cloud": {},
  "kernelspec": {
   "display_name": "Python [conda root]",
   "language": "python",
   "name": "conda-root-py"
  },
  "language_info": {
   "codemirror_mode": {
    "name": "ipython",
    "version": 2
   },
   "file_extension": ".py",
   "mimetype": "text/x-python",
   "name": "python",
   "nbconvert_exporter": "python",
   "pygments_lexer": "ipython2",
   "version": "2.7.12"
  }
 },
 "nbformat": 4,
 "nbformat_minor": 0
}
