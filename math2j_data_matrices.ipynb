{
 "cells": [
  {
   "cell_type": "code",
   "execution_count": 9,
   "metadata": {
    "collapsed": false
   },
   "outputs": [],
   "source": [
    "import sys, os\n",
    "import numpy as np\n",
    "import csv\n",
    "from datetime import datetime, timedelta\n",
    "# for plotting\n",
    "import matplotlib.pyplot as plt\n",
    "import matplotlib\n",
    "matplotlib.style.use('classic')\n",
    "%matplotlib inline"
   ]
  },
  {
   "cell_type": "code",
   "execution_count": 15,
   "metadata": {
    "collapsed": false
   },
   "outputs": [
    {
     "name": "stdout",
     "output_type": "stream",
     "text": [
      "/Users/jihyun/research/education/data/2755\n"
     ]
    }
   ],
   "source": [
    "edu_dir = '/Users/jihyun/research/education/'\n",
    "course_id = 2755\n",
    "data_dir = os.path.join(edu_dir, 'data',str(course_id))\n",
    "print data_dir"
   ]
  },
  {
   "cell_type": "code",
   "execution_count": 8,
   "metadata": {
    "collapsed": false
   },
   "outputs": [],
   "source": [
    "first_day = datetime(2016, 9, 15, 0, 0, 0)\n",
    "days_limit = 90  # total 90 days "
   ]
  },
  {
   "cell_type": "markdown",
   "metadata": {},
   "source": [
    "# Load csv clickstream data"
   ]
  },
  {
   "cell_type": "code",
   "execution_count": 13,
   "metadata": {
    "collapsed": true
   },
   "outputs": [],
   "source": [
    "def get_cats_from_url(url, depth=1):\n",
    "\n",
    "    if not 0 < depth < 4:\n",
    "        raise ('ERROR! depth should be integers between 1 and 3!')\n",
    "\n",
    "    if url.endswith('/'):\n",
    "        url = url[:-1]\n",
    "    url = url.replace('api/v1/', '')\n",
    "\n",
    "    if len(url.split('/')) < 6:\n",
    "        return 'homepage'\n",
    "\n",
    "\n",
    "def load_csv(deidentified_data_dir):\n",
    "    \"\"\"\n",
    "    The de-identified CSV files should have the following columns\n",
    "        random_id, url_action, created_at, interaction_seconds, ip_address\n",
    "\n",
    "    \"\"\"\n",
    "\n",
    "    print('Loading csv files')\n",
    "    data = {}\n",
    "    index = 0\n",
    "    idx2id = []\n",
    "    id2idx = {}\n",
    "    ip2id = {}\n",
    "    date_format = \"%Y-%m-%dT%H:%M:%SZ\"\n",
    "\n",
    "    for file in os.listdir(deidentified_data_dir):\n",
    "        url = []\n",
    "        category = []\n",
    "        action = []\n",
    "        created_at = []\n",
    "        interact_secs = []\n",
    "        remote_ip = []\n",
    "\n",
    "        if file.endswith('csv'):\n",
    "            csv_file = os.path.join(deidentified_data_dir, file)\n",
    "            csv_reader = csv.reader(open(csv_file, 'r'))\n",
    "            next(csv_reader, None)\n",
    "            for line in csv_reader:\n",
    "                id = line[0]\n",
    "                ip = line[-1]\n",
    "                url.append(line[1])\n",
    "                category.append(get_cats_from_url(line[1]))\n",
    "                action.append(line[2])\n",
    "                # you need to subtract 7 hours to get the california time\n",
    "                created_at.append(datetime.strptime(line[3], date_format) - timedelta(0, 25200))\n",
    "                interact_secs.append(line[4])\n",
    "                remote_ip.append(ip)\n",
    "                if ip2id.get(ip, None) is None:\n",
    "                    ip2id[ip] = []\n",
    "                if int(id) not in ip2id[ip]:\n",
    "                    ip2id[ip].append(int(id))\n",
    "\n",
    "            id = int(id)\n",
    "            data[id] = {\"url\": url[::-1], \"category\": category[::-1], \"action\": action[::-1],\n",
    "                        \"created_at\": created_at[::-1],\n",
    "                        \"interact_secs\": interact_secs[::-1], \"remote_ip\": remote_ip[::-1]}\n",
    "            id2idx[id] = index\n",
    "            idx2id.append(id)\n",
    "            index += 1\n",
    "    n_students = index\n",
    "    print('Finished Loading')\n",
    "    return data, n_students, id2idx, idx2id, ip2id"
   ]
  },
  {
   "cell_type": "code",
   "execution_count": 14,
   "metadata": {
    "collapsed": false
   },
   "outputs": [
    {
     "name": "stdout",
     "output_type": "stream",
     "text": [
      "Loading csv files\n",
      "Finished Loading\n"
     ]
    }
   ],
   "source": [
    "deid_data_dir = os.path.join(data_dir, 'deidentified') # path to the deidentified click data\n",
    "csv_data, n_students, id2idx, idx2id, ip2id = load_csv(deid_data_dir)"
   ]
  },
  {
   "cell_type": "code",
   "execution_count": 29,
   "metadata": {
    "collapsed": false
   },
   "outputs": [
    {
     "name": "stdout",
     "output_type": "stream",
     "text": [
      "[211456, 372736, 399875, 870913, 280072, 144906, 678923, 527613, 496302, 752452, 487821, 161817, 878619, 690204, 683556, 575526, 651815, 820776, 542768, 603698, 309815, 742457, 368187, 453693, 368190, 595007, 409665, 354891, 248910, 194640, 196178, 778937, 690020, 313947, 107613, 880400, 469607, 505532, 878698, 266860, 567917, 142013, 756849, 534130, 651892, 656502, 285815, 185976, 427129, 501888, 533121, 878756, 318085, 142983, 577672, 206956, 349323, 684686, 569453, 586129, 695442, 824980, 780949, 854312, 777879, 413848, 489626, 140956, 461178, 837829, 478881, 177828, 502950, 252583, 841244, 403630, 122037, 651959, 541881, 689850, 323260, 223421, 861375, 563915, 700101, 701639, 267383, 577228, 464845, 258256, 769144, 840914, 276180, 768462, 857814, 324823, 797913, 304347, 728284, 315613, 552158, 567520, 500449, 787686, 536808, 888553, 756974, 376559, 203048, 575730, 261875, 811253, 795383, 852729, 299258, 370427, 112893, 192469, 807684, 777865, 169737, 217866, 807639, 185101, 571152, 261912, 791948, 677153, 671110, 151848, 633085, 231047, 543537, 288051, 566580, 492343, 639801, 348476, 106814, 753472, 509251, 676164, 556001, 566921, 605946, 655422, 758092, 181070, 446861, 208721, 650068, 449886, 638305, 699234, 636772, 738662, 466321, 839500, 692028, 864619, 761708, 462397, 168821, 214394, 726909, 477567, 571776, 428934, 888897, 291721, 640394, 670092, 235405, 849867, 372623, 615312, 275857, 785594, 810390, 407447, 542105, 865434, 474527, 813988, 509084, 370090, 252843, 556460, 393133, 262575, 136113, 417202, 179443, 567733, 649654, 465847, 715192, 414205, 789407, 708029, 864191, 112576, 588226, 476614, 733345, 318409, 237002, 241611, 113613, 169422, 283214, 649688, 313508, 642524, 274909, 524255, 308704, 337516, 675810, 674277, 338922, 369319, 164335, 537584, 373233, 393203, 813557, 742650, 736764, 115626, 500222]\n",
      "{'category': ['homepage', None, None, None, None, None, 'homepage', 'homepage', None, None, 'homepage', None, None, 'homepage', None, None, None, None, None, None, None, None, None, None, None, None, None, None, None, None, None, None, None, None, 'homepage', None, None, None, None, None, None, None, None, None, None, None, None, 'homepage', None, None, 'homepage', None, None, None, 'homepage', None, None, None, None, None, None, None, 'homepage', None, None, 'homepage', None, None, None, None, None, None, 'homepage', None, None, None, None, None, None, 'homepage', None, None, None, None, None, None, None, None, None, None, None, None, 'homepage', None, None, None, 'homepage', None, None, None, None, None, 'homepage', None, None, None, None, None, None, None, None, 'homepage', None, None, 'homepage', None, 'homepage', None, None, None, None, None, None, None, None, None, None, None, None, 'homepage', None, 'homepage', 'homepage', None, 'homepage', None, None, None, 'homepage', None, None, None, None, 'homepage', None, None, None, None, None, None, None, None, None, None, None, None, None, None, 'homepage', None, 'homepage', None, 'homepage', None, None, None, 'homepage', None, None, None, 'homepage', None, 'homepage', None, None, None, None, None, None, None, None, 'homepage', None, 'homepage', None, None, None, 'homepage', None, None, None, None, 'homepage', None, None, None, None, None, None, None, None, None, None, 'homepage', None, None, 'homepage', None, None, None, None, None, 'homepage', None, None, None, None, None, None, None, None, None, None, None, 'homepage', None, None, None, None, None, None, None, None, None, None, None, None, 'homepage', None, None, None, None, None, None, None, None, None, None, None, None, 'homepage', 'homepage', None, 'homepage', None, None, None, None, None, 'homepage', None, 'homepage', None, None, None, None, None, None, None, 'homepage', None, 'homepage', None, None, None, None, None, None, None, None, None, None, None, None, None, None, None, None, None, None, None, None, None, None, None, None, None, None, None, None, None, None, 'homepage', None, None, None, None, None, None, None, None, None, None, None, None, None, None, None, None, 'homepage', None, None, None, None, None, None, None, None, None, 'homepage', None, None, None, 'homepage', None, 'homepage', None, 'homepage', None, None, None, None, None, None, 'homepage', None, None, 'homepage', None, None, 'homepage', None, 'homepage', None, 'homepage', None, None, None, None, None, None, None, None, None, 'homepage', None, None, None, None, 'homepage', None, 'homepage', None, None], 'url': ['https://canvas.eee.uci.edu/courses/2755', 'https://canvas.eee.uci.edu/courses/2755/assignments', 'https://canvas.eee.uci.edu/courses/2755/discussion_topics', 'https://canvas.eee.uci.edu/courses/2755/grades', 'https://canvas.eee.uci.edu/courses/2755/users', 'https://canvas.eee.uci.edu/courses/2755/pages', 'https://canvas.eee.uci.edu/courses/2755', 'https://canvas.eee.uci.edu/courses/2755', 'https://canvas.eee.uci.edu/courses/2755/assignments/64538', 'https://canvas.eee.uci.edu/courses/2755/quizzes/12291', 'https://canvas.eee.uci.edu/courses/2755', 'https://canvas.eee.uci.edu/courses/2755/assignments/64538', 'https://canvas.eee.uci.edu/courses/2755/quizzes/12291', 'https://canvas.eee.uci.edu/courses/2755', 'https://canvas.eee.uci.edu/courses/2755/assignments', 'https://canvas.eee.uci.edu/courses/2755/assignments/64538', 'https://canvas.eee.uci.edu/courses/2755/quizzes/12291/take?user_id=164841', 'https://canvas.eee.uci.edu/courses/2755/quizzes/12291/take', 'https://canvas.eee.uci.edu/courses/2755/quizzes/12291', 'https://canvas.eee.uci.edu/courses/2755/quizzes/12291/take?user_id=164841', 'https://canvas.eee.uci.edu/courses/2755/quizzes/12291/take', 'https://canvas.eee.uci.edu/courses/2755/grades', 'https://canvas.eee.uci.edu/courses/2755/assignments', 'https://canvas.eee.uci.edu/courses/2755/assignments/64579', 'https://canvas.eee.uci.edu/courses/2755/quizzes/12428', 'https://canvas.eee.uci.edu/courses/2755/quizzes/12428/take?user_id=164841', 'https://canvas.eee.uci.edu/courses/2755/quizzes/12428/take', 'https://canvas.eee.uci.edu/courses/2755/pages', 'https://canvas.eee.uci.edu/courses/2755/pages/lesson-1b-famous-functions', 'https://canvas.eee.uci.edu/courses/2755/pages/lesson-1c-creating-new-functions', 'https://canvas.eee.uci.edu/courses/2755/quizzes/12428', 'https://canvas.eee.uci.edu/courses/2755/grades', 'https://canvas.eee.uci.edu/courses/2755/pages/lesson-1a-functions', 'https://canvas.eee.uci.edu/courses/2755/pages/lesson-1b-famous-functions', 'https://canvas.eee.uci.edu/courses/2755', 'https://canvas.eee.uci.edu/courses/2755/users', 'https://canvas.eee.uci.edu/courses/2755/pages/lesson-1d-exponential-and-inverse-functions', 'https://canvas.eee.uci.edu/courses/2755/assignments', 'https://canvas.eee.uci.edu/courses/2755/assignments/64586', 'https://canvas.eee.uci.edu/courses/2755/quizzes/12432', 'https://canvas.eee.uci.edu/courses/2755/quizzes/12432/take?user_id=164841', 'https://canvas.eee.uci.edu/courses/2755/quizzes/12432/take', 'https://canvas.eee.uci.edu/courses/2755/quizzes/12432', 'https://canvas.eee.uci.edu/courses/2755/quizzes/12432/take?user_id=164841', 'https://canvas.eee.uci.edu/courses/2755/quizzes/12432/take', 'https://canvas.eee.uci.edu/courses/2755/quizzes/12432', 'https://canvas.eee.uci.edu/courses/2755/grades', 'https://canvas.eee.uci.edu/courses/2755', 'https://canvas.eee.uci.edu/courses/2755/pages', 'https://canvas.eee.uci.edu/courses/2755/pages/lesson-1c-creating-new-functions', 'https://canvas.eee.uci.edu/courses/2755', 'https://canvas.eee.uci.edu/courses/2755/assignments', 'https://canvas.eee.uci.edu/courses/2755/assignments/64596', 'https://canvas.eee.uci.edu/courses/2755/quizzes/12433', 'https://canvas.eee.uci.edu/courses/2755', 'https://canvas.eee.uci.edu/courses/2755/pages', 'https://canvas.eee.uci.edu/courses/2755/pages/lesson-2a-tangent-velocity-and-limits', 'https://canvas.eee.uci.edu/courses/2755/quizzes/12433/take?user_id=164841', 'https://canvas.eee.uci.edu/courses/2755/quizzes/12433/take', 'https://canvas.eee.uci.edu/courses/2755/quizzes/12433', 'https://canvas.eee.uci.edu/courses/2755/assignments', 'https://canvas.eee.uci.edu/courses/2755/pages', 'https://canvas.eee.uci.edu/courses/2755', 'https://canvas.eee.uci.edu/courses/2755/pages', 'https://canvas.eee.uci.edu/courses/2755/pages/lesson-2b-limit-laws', 'https://canvas.eee.uci.edu/courses/2755', 'https://canvas.eee.uci.edu/courses/2755/assignments/64597', 'https://canvas.eee.uci.edu/courses/2755/quizzes/12434/take?user_id=164841', 'https://canvas.eee.uci.edu/courses/2755/quizzes/12434/take', 'https://canvas.eee.uci.edu/courses/2755/quizzes/12434', 'https://canvas.eee.uci.edu/courses/2755/quizzes/12434/take?user_id=164841', 'https://canvas.eee.uci.edu/courses/2755/quizzes/12434/take', 'https://canvas.eee.uci.edu/courses/2755', 'https://canvas.eee.uci.edu/courses/2755/pages', 'https://canvas.eee.uci.edu/courses/2755/pages/lesson-1c-creating-new-functions', 'https://canvas.eee.uci.edu/courses/2755/pages', 'https://canvas.eee.uci.edu/courses/2755/pages/lesson-1d-exponential-and-inverse-functions', 'https://canvas.eee.uci.edu/courses/2755/grades', 'https://canvas.eee.uci.edu/courses/2755/pages', 'https://canvas.eee.uci.edu/courses/2755', 'https://canvas.eee.uci.edu/courses/2755/pages', 'https://canvas.eee.uci.edu/courses/2755/pages/lesson-1a-functions', 'https://canvas.eee.uci.edu/courses/2755/pages', 'https://canvas.eee.uci.edu/courses/2755/pages/lesson-1b-famous-functions', 'https://canvas.eee.uci.edu/courses/2755/pages', 'https://canvas.eee.uci.edu/courses/2755/pages/lesson-1c-creating-new-functions', 'https://canvas.eee.uci.edu/courses/2755/pages', 'https://canvas.eee.uci.edu/courses/2755/pages/lesson-1d-exponential-and-inverse-functions', 'https://canvas.eee.uci.edu/courses/2755/pages', 'https://canvas.eee.uci.edu/courses/2755/assignments', 'https://canvas.eee.uci.edu/courses/2755/pages', 'https://canvas.eee.uci.edu/courses/2755/pages/lesson-2a-tangent-velocity-and-limits', 'https://canvas.eee.uci.edu/courses/2755', 'https://canvas.eee.uci.edu/courses/2755/assignments/64598', 'https://canvas.eee.uci.edu/courses/2755/quizzes/12435', 'https://canvas.eee.uci.edu/courses/2755/quizzes/12435', 'https://canvas.eee.uci.edu/courses/2755', 'https://canvas.eee.uci.edu/courses/2755/assignments/64598', 'https://canvas.eee.uci.edu/courses/2755/pages', 'https://canvas.eee.uci.edu/courses/2755/quizzes/12435/take?user_id=164841', 'https://canvas.eee.uci.edu/courses/2755/quizzes/12435/take', 'https://canvas.eee.uci.edu/courses/2755/quizzes/12435', 'https://canvas.eee.uci.edu/courses/2755', 'https://canvas.eee.uci.edu/courses/2755/pages', 'https://canvas.eee.uci.edu/courses/2755/pages/lesson-1d-exponential-and-inverse-functions', 'https://canvas.eee.uci.edu/courses/2755/pages', 'https://canvas.eee.uci.edu/courses/2755/pages/lesson-2a-tangent-velocity-and-limits', 'https://canvas.eee.uci.edu/courses/2755/pages', 'https://canvas.eee.uci.edu/courses/2755/pages/lesson-2b-limit-laws', 'https://canvas.eee.uci.edu/courses/2755/pages', 'https://canvas.eee.uci.edu/courses/2755/pages/lesson-2c-continuity', 'https://canvas.eee.uci.edu/courses/2755', 'https://canvas.eee.uci.edu/courses/2755/pages', 'https://canvas.eee.uci.edu/courses/2755/pages/lesson-2c-continuity', 'https://canvas.eee.uci.edu/courses/2755', 'https://canvas.eee.uci.edu/courses/2755/pages', 'https://canvas.eee.uci.edu/courses/2755', 'https://canvas.eee.uci.edu/courses/2755/assignments', 'https://canvas.eee.uci.edu/courses/2755/pages', 'https://canvas.eee.uci.edu/courses/2755/pages/lesson-2d-asymptotes', 'https://canvas.eee.uci.edu/courses/2755/assignments', 'https://canvas.eee.uci.edu/courses/2755/assignments/64599', 'https://canvas.eee.uci.edu/courses/2755/quizzes/12436', 'https://canvas.eee.uci.edu/courses/2755/quizzes/12436/take?user_id=164841', 'https://canvas.eee.uci.edu/courses/2755/quizzes/12436/take', 'https://canvas.eee.uci.edu/courses/2755/quizzes/12436', 'https://canvas.eee.uci.edu/courses/2755/quizzes/12436/take?user_id=164841', 'https://canvas.eee.uci.edu/courses/2755/quizzes/12436/take', 'https://canvas.eee.uci.edu/courses/2755/quizzes/12436', 'https://canvas.eee.uci.edu/courses/2755', 'https://canvas.eee.uci.edu/courses/2755/users', 'https://canvas.eee.uci.edu/courses/2755', 'https://canvas.eee.uci.edu/courses/2755', 'https://canvas.eee.uci.edu/courses/2755/assignments', 'https://canvas.eee.uci.edu/courses/2755', 'https://canvas.eee.uci.edu/courses/2755/assignments/64601', 'https://canvas.eee.uci.edu/courses/2755/quizzes/12437', 'https://canvas.eee.uci.edu/courses/2755/pages', 'https://canvas.eee.uci.edu/courses/2755', 'https://canvas.eee.uci.edu/courses/2755/assignments/64601', 'https://canvas.eee.uci.edu/courses/2755/quizzes/12437', 'https://canvas.eee.uci.edu/courses/2755/pages', 'https://canvas.eee.uci.edu/courses/2755/pages/lesson-2e-derivatives-as-slopes-and-derivatives-as-functions', 'https://canvas.eee.uci.edu/courses/2755', 'https://canvas.eee.uci.edu/courses/2755/assignments/64601', 'https://canvas.eee.uci.edu/courses/2755/quizzes/12437', 'https://canvas.eee.uci.edu/courses/2755/quizzes/12437/take?user_id=164841', 'https://canvas.eee.uci.edu/courses/2755/quizzes/12437/take', 'https://canvas.eee.uci.edu/courses/2755/quizzes/12437', 'https://canvas.eee.uci.edu/courses/2755/quizzes/12437/take?user_id=164841', 'https://canvas.eee.uci.edu/courses/2755/quizzes/12437/take', 'https://canvas.eee.uci.edu/courses/2755/quizzes/12437', 'https://canvas.eee.uci.edu/courses/2755/pages', 'https://canvas.eee.uci.edu/courses/2755/pages/lesson-2a-tangent-velocity-and-limits', 'https://canvas.eee.uci.edu/courses/2755/pages', 'https://canvas.eee.uci.edu/courses/2755/pages/lesson-2b-limit-laws', 'https://canvas.eee.uci.edu/courses/2755/pages', 'https://canvas.eee.uci.edu/courses/2755/pages/lesson-2c-continuity', 'https://canvas.eee.uci.edu/courses/2755', 'https://canvas.eee.uci.edu/courses/2755/assignments/syllabus', 'https://canvas.eee.uci.edu/courses/2755', 'https://canvas.eee.uci.edu/courses/2755/grades', 'https://canvas.eee.uci.edu/courses/2755', 'https://canvas.eee.uci.edu/courses/2755/assignments/syllabus', 'https://canvas.eee.uci.edu/courses/2755/assignments/syllabus', 'https://canvas.eee.uci.edu/courses/2755/assignments/syllabus', 'https://canvas.eee.uci.edu/courses/2755', 'https://canvas.eee.uci.edu/courses/2755/pages', 'https://canvas.eee.uci.edu/courses/2755/files', 'https://canvas.eee.uci.edu/courses/2755/files/970379/file_preview?annotate=0', 'https://canvas.eee.uci.edu/courses/2755', 'https://canvas.eee.uci.edu/courses/2755/files/970379/file_preview?annotate=0', 'https://canvas.eee.uci.edu/courses/2755', 'https://canvas.eee.uci.edu/courses/2755/assignments/65752', 'https://canvas.eee.uci.edu/courses/2755/quizzes/12496', 'https://canvas.eee.uci.edu/courses/2755/pages', 'https://canvas.eee.uci.edu/courses/2755/pages/lesson-3a-derivative-shortcuts-and-derivative-rules', 'https://canvas.eee.uci.edu/courses/2755/quizzes', 'https://canvas.eee.uci.edu/courses/2755/quizzes/12496', 'https://canvas.eee.uci.edu/courses/2755/quizzes/12496/take?user_id=164841', 'https://canvas.eee.uci.edu/courses/2755/quizzes/12496/take', 'https://canvas.eee.uci.edu/courses/2755', 'https://canvas.eee.uci.edu/courses/2755/grades', 'https://canvas.eee.uci.edu/courses/2755', 'https://canvas.eee.uci.edu/courses/2755/pages', 'https://canvas.eee.uci.edu/courses/2755/files', 'https://canvas.eee.uci.edu/courses/2755/assignments/syllabus', 'https://canvas.eee.uci.edu/courses/2755', 'https://canvas.eee.uci.edu/courses/2755/discussion_topics', 'https://canvas.eee.uci.edu/courses/2755/assignments', 'https://canvas.eee.uci.edu/courses/2755/pages', 'https://canvas.eee.uci.edu/courses/2755/assignments/syllabus', 'https://canvas.eee.uci.edu/courses/2755', 'https://canvas.eee.uci.edu/courses/2755/pages', 'https://canvas.eee.uci.edu/courses/2755/pages/lesson-2c-continuity', 'https://canvas.eee.uci.edu/courses/2755/assignments', 'https://canvas.eee.uci.edu/courses/2755/pages', 'https://canvas.eee.uci.edu/courses/2755/pages/lesson-4b-mean-value-theorem', 'https://canvas.eee.uci.edu/courses/2755/assignments', 'https://canvas.eee.uci.edu/courses/2755/assignments/65765', 'https://canvas.eee.uci.edu/courses/2755/quizzes/12498', 'https://canvas.eee.uci.edu/courses/2755/quizzes/12498/take?user_id=164841', 'https://canvas.eee.uci.edu/courses/2755/quizzes/12498/take', 'https://canvas.eee.uci.edu/courses/2755', 'https://canvas.eee.uci.edu/courses/2755/pages', 'https://canvas.eee.uci.edu/courses/2755/pages/lesson-3b-trigonometric-derivatives', 'https://canvas.eee.uci.edu/courses/2755', 'https://canvas.eee.uci.edu/courses/2755/pages', 'https://canvas.eee.uci.edu/courses/2755/pages/lesson-3b-trigonometric-derivatives', 'https://canvas.eee.uci.edu/courses/2755/quizzes/12498', 'https://canvas.eee.uci.edu/courses/2755/grades', 'https://canvas.eee.uci.edu/courses/2755/grades', 'https://canvas.eee.uci.edu/courses/2755', 'https://canvas.eee.uci.edu/courses/2755/pages/lesson-2c-continuity', 'https://canvas.eee.uci.edu/courses/2755/pages', 'https://canvas.eee.uci.edu/courses/2755/pages/lesson-2e-derivatives-as-slopes-and-derivatives-as-functions', 'https://canvas.eee.uci.edu/courses/2755/pages', 'https://canvas.eee.uci.edu/courses/2755/pages', 'https://canvas.eee.uci.edu/courses/2755/pages/lesson-3e-logarithmic-derivatives', 'https://canvas.eee.uci.edu/courses/2755/assignments', 'https://canvas.eee.uci.edu/courses/2755/assignments/65791', 'https://canvas.eee.uci.edu/courses/2755/quizzes/12503', 'https://canvas.eee.uci.edu/courses/2755/quizzes/12503/take?user_id=164841', 'https://canvas.eee.uci.edu/courses/2755/quizzes/12503/take', 'https://canvas.eee.uci.edu/courses/2755', 'https://canvas.eee.uci.edu/courses/2755/grades', 'https://canvas.eee.uci.edu/courses/2755/pages', 'https://canvas.eee.uci.edu/courses/2755/pages/lesson-3f-related-rates', 'https://canvas.eee.uci.edu/courses/2755/quizzes/12505', 'https://canvas.eee.uci.edu/courses/2755/quizzes/12505/take?user_id=164841', 'https://canvas.eee.uci.edu/courses/2755/quizzes/12505/take', 'https://canvas.eee.uci.edu/courses/2755/quizzes/12505', 'https://canvas.eee.uci.edu/courses/2755/quizzes/12505/take', 'https://canvas.eee.uci.edu/courses/2755/quizzes/12505', 'https://canvas.eee.uci.edu/courses/2755/quizzes/12505/take?user_id=164841', 'https://canvas.eee.uci.edu/courses/2755/quizzes/12505/take', 'https://canvas.eee.uci.edu/courses/2755/quizzes/12505', 'https://canvas.eee.uci.edu/courses/2755', 'https://canvas.eee.uci.edu/courses/2755/assignments/65798', 'https://canvas.eee.uci.edu/courses/2755/quizzes/12506', 'https://canvas.eee.uci.edu/courses/2755/pages', 'https://canvas.eee.uci.edu/courses/2755/pages/lesson-3g-linearization', 'https://canvas.eee.uci.edu/courses/2755/assignments', 'https://canvas.eee.uci.edu/courses/2755/assignments/65798', 'https://canvas.eee.uci.edu/courses/2755/quizzes/12506', 'https://canvas.eee.uci.edu/courses/2755/quizzes/12506/take?user_id=164841', 'https://canvas.eee.uci.edu/courses/2755/quizzes/12506/take', 'https://canvas.eee.uci.edu/courses/2755/quizzes/12506', 'https://canvas.eee.uci.edu/courses/2755/quizzes/12506/take', 'https://canvas.eee.uci.edu/courses/2755/quizzes/12506', 'https://canvas.eee.uci.edu/courses/2755', 'https://canvas.eee.uci.edu/courses/2755', 'https://canvas.eee.uci.edu/courses/2755/pages', 'https://canvas.eee.uci.edu/courses/2755', 'https://canvas.eee.uci.edu/courses/2755/assignments', 'https://canvas.eee.uci.edu/courses/2755/pages', 'https://canvas.eee.uci.edu/courses/2755/files', 'https://canvas.eee.uci.edu/courses/2755/quizzes', 'https://canvas.eee.uci.edu/courses/2755/assignments/syllabus', 'https://canvas.eee.uci.edu/courses/2755', 'https://canvas.eee.uci.edu/courses/2755/assignments', 'https://canvas.eee.uci.edu/courses/2755', 'https://canvas.eee.uci.edu/courses/2755/pages', 'https://canvas.eee.uci.edu/courses/2755/assignments', 'https://canvas.eee.uci.edu/courses/2755/pages', 'https://canvas.eee.uci.edu/courses/2755/pages', 'https://canvas.eee.uci.edu/courses/2755/pages/lesson-3d-implicit-derivatives', 'https://canvas.eee.uci.edu/courses/2755/pages', 'https://canvas.eee.uci.edu/courses/2755/pages/lesson-3e-logarithmic-derivatives', 'https://canvas.eee.uci.edu/courses/2755', 'https://canvas.eee.uci.edu/courses/2755/assignments/syllabus', 'https://canvas.eee.uci.edu/courses/2755', 'https://canvas.eee.uci.edu/courses/2755/quizzes/12509', 'https://canvas.eee.uci.edu/courses/2755/pages', 'https://canvas.eee.uci.edu/courses/2755/pages/lesson-4d-curve-sketching-part-i', 'https://canvas.eee.uci.edu/courses/2755/assignments', 'https://canvas.eee.uci.edu/courses/2755/assignments/65838', 'https://canvas.eee.uci.edu/courses/2755/quizzes/12509', 'https://canvas.eee.uci.edu/courses/2755/quizzes/12509/take?user_id=164841', 'https://canvas.eee.uci.edu/courses/2755/quizzes/12509/take', 'https://canvas.eee.uci.edu/courses/2755/quizzes/12509', 'https://canvas.eee.uci.edu/courses/2755/quizzes/12509/take?user_id=164841', 'https://canvas.eee.uci.edu/courses/2755/quizzes/12509/take', 'https://canvas.eee.uci.edu/courses/2755/quizzes/12509', 'https://canvas.eee.uci.edu/courses/2755/quizzes/12509/take?user_id=164841', 'https://canvas.eee.uci.edu/courses/2755/quizzes/12509/take', 'https://canvas.eee.uci.edu/courses/2755/quizzes/12509', 'https://canvas.eee.uci.edu/courses/2755/quizzes/12509/take?user_id=164841', 'https://canvas.eee.uci.edu/courses/2755/quizzes/12509/take', 'https://canvas.eee.uci.edu/courses/2755/quizzes/12509', 'https://canvas.eee.uci.edu/courses/2755/assignments', 'https://canvas.eee.uci.edu/courses/2755/pages', 'https://canvas.eee.uci.edu/courses/2755/pages/lesson-4c-lhopitals-rule', 'https://canvas.eee.uci.edu/courses/2755/assignments', 'https://canvas.eee.uci.edu/courses/2755/assignments/65840', 'https://canvas.eee.uci.edu/courses/2755/quizzes/12510', 'https://canvas.eee.uci.edu/courses/2755/quizzes/12510/take?user_id=164841', 'https://canvas.eee.uci.edu/courses/2755/quizzes/12510/take', 'https://canvas.eee.uci.edu/courses/2755/quizzes/12510', 'https://canvas.eee.uci.edu/courses/2755/quizzes/12510/take?user_id=164841', 'https://canvas.eee.uci.edu/courses/2755/quizzes/12510/take', 'https://canvas.eee.uci.edu/courses/2755/quizzes/12510', 'https://canvas.eee.uci.edu/courses/2755', 'https://canvas.eee.uci.edu/courses/2755/assignments', 'https://canvas.eee.uci.edu/courses/2755/assignments', 'https://canvas.eee.uci.edu/courses/2755/pages', 'https://canvas.eee.uci.edu/courses/2755/assignments', 'https://canvas.eee.uci.edu/courses/2755/pages', 'https://canvas.eee.uci.edu/courses/2755/pages/lesson-4e-curve-sketching-part-ii', 'https://canvas.eee.uci.edu/courses/2755/assignments', 'https://canvas.eee.uci.edu/courses/2755/quizzes/12511', 'https://canvas.eee.uci.edu/courses/2755/quizzes/12511/take?user_id=164841', 'https://canvas.eee.uci.edu/courses/2755/quizzes/12511/take', 'https://canvas.eee.uci.edu/courses/2755/quizzes/12511', 'https://canvas.eee.uci.edu/courses/2755/quizzes/12511/take?user_id=164841', 'https://canvas.eee.uci.edu/courses/2755/quizzes/12511', 'https://canvas.eee.uci.edu/courses/2755/quizzes/12511/take?user_id=164841', 'https://canvas.eee.uci.edu/courses/2755/quizzes/12511/take', 'https://canvas.eee.uci.edu/courses/2755/quizzes/12511', 'https://canvas.eee.uci.edu/courses/2755', 'https://canvas.eee.uci.edu/courses/2755/assignments/65893', 'https://canvas.eee.uci.edu/courses/2755/quizzes/12514', 'https://canvas.eee.uci.edu/courses/2755/pages', 'https://canvas.eee.uci.edu/courses/2755/pages/lesson-4f-optimization', 'https://canvas.eee.uci.edu/courses/2755/quizzes', 'https://canvas.eee.uci.edu/courses/2755/quizzes/12514', 'https://canvas.eee.uci.edu/courses/2755/quizzes/12514/take?user_id=164841', 'https://canvas.eee.uci.edu/courses/2755/quizzes/12514/take', 'https://canvas.eee.uci.edu/courses/2755/quizzes/12514', 'https://canvas.eee.uci.edu/courses/2755', 'https://canvas.eee.uci.edu/courses/2755/grades', 'https://canvas.eee.uci.edu/courses/2755/assignments/syllabus', 'https://canvas.eee.uci.edu/courses/2755/assignments/syllabus', 'https://canvas.eee.uci.edu/courses/2755', 'https://canvas.eee.uci.edu/courses/2755/assignments/syllabus', 'https://canvas.eee.uci.edu/courses/2755', 'https://canvas.eee.uci.edu/courses/2755/assignments/syllabus', 'https://canvas.eee.uci.edu/courses/2755', 'https://canvas.eee.uci.edu/courses/2755/assignments', 'https://canvas.eee.uci.edu/courses/2755/files', 'https://canvas.eee.uci.edu/courses/2755/pages', 'https://canvas.eee.uci.edu/courses/2755/pages/lesson-3d-implicit-derivatives', 'https://canvas.eee.uci.edu/courses/2755/assignments/syllabus', 'https://canvas.eee.uci.edu/courses/2755/pages/lesson-3a-derivative-shortcuts-and-derivative-rules', 'https://canvas.eee.uci.edu/courses/2755', 'https://canvas.eee.uci.edu/courses/2755/files/970378/file_preview?annotate=0', 'https://canvas.eee.uci.edu/courses/2755/files/1087055/file_preview?annotate=0', 'https://canvas.eee.uci.edu/courses/2755', 'https://canvas.eee.uci.edu/courses/2755/assignments/syllabus', 'https://canvas.eee.uci.edu/courses/2755/pages', 'https://canvas.eee.uci.edu/courses/2755', 'https://canvas.eee.uci.edu/courses/2755/assignments/syllabus', 'https://canvas.eee.uci.edu/courses/2755', 'https://canvas.eee.uci.edu/courses/2755/assignments/syllabus', 'https://canvas.eee.uci.edu/courses/2755', 'https://canvas.eee.uci.edu/courses/2755/pages', 'https://canvas.eee.uci.edu/courses/2755/files', 'https://canvas.eee.uci.edu/courses/2755/files/1087055/file_preview?annotate=0', 'https://canvas.eee.uci.edu/courses/2755/grades', 'https://canvas.eee.uci.edu/courses/2755/pages', 'https://canvas.eee.uci.edu/courses/2755/files', 'https://canvas.eee.uci.edu/courses/2755/assignments/syllabus', 'https://canvas.eee.uci.edu/courses/2755/assignments/syllabus', 'https://canvas.eee.uci.edu/courses/2755/assignments/syllabus', 'https://canvas.eee.uci.edu/courses/2755', 'https://canvas.eee.uci.edu/courses/2755/files', 'https://canvas.eee.uci.edu/courses/2755/files/970372/file_preview?annotate=0', 'https://canvas.eee.uci.edu/courses/2755/files', 'https://canvas.eee.uci.edu/courses/2755/files/970371/file_preview?annotate=0', 'https://canvas.eee.uci.edu/courses/2755', 'https://canvas.eee.uci.edu/courses/2755/assignments/syllabus', 'https://canvas.eee.uci.edu/courses/2755', 'https://canvas.eee.uci.edu/courses/2755/pages', 'https://canvas.eee.uci.edu/courses/2755/pages/lesson-1a-functions'], 'created_at': [datetime.datetime(2016, 9, 21, 18, 23, 48), datetime.datetime(2016, 9, 21, 18, 24, 17), datetime.datetime(2016, 9, 21, 18, 24, 19), datetime.datetime(2016, 9, 21, 18, 24, 21), datetime.datetime(2016, 9, 21, 18, 24, 22), datetime.datetime(2016, 9, 21, 18, 24, 26), datetime.datetime(2016, 9, 21, 18, 24, 52), datetime.datetime(2016, 9, 26, 2, 35, 13), datetime.datetime(2016, 9, 26, 2, 35, 52), datetime.datetime(2016, 9, 26, 2, 35, 52), datetime.datetime(2016, 9, 26, 2, 36, 12), datetime.datetime(2016, 9, 26, 9, 4, 44), datetime.datetime(2016, 9, 26, 9, 4, 45), datetime.datetime(2016, 9, 26, 9, 5, 10), datetime.datetime(2016, 9, 26, 9, 5, 15), datetime.datetime(2016, 9, 26, 9, 5, 28), datetime.datetime(2016, 9, 26, 9, 5, 57), datetime.datetime(2016, 9, 26, 9, 5, 58), datetime.datetime(2016, 9, 26, 9, 13, 9), datetime.datetime(2016, 9, 26, 9, 13, 37), datetime.datetime(2016, 9, 26, 9, 13, 37), datetime.datetime(2016, 9, 26, 9, 14, 59), datetime.datetime(2016, 9, 26, 9, 15, 6), datetime.datetime(2016, 9, 26, 9, 15, 12), datetime.datetime(2016, 9, 26, 9, 15, 13), datetime.datetime(2016, 9, 26, 9, 16, 23), datetime.datetime(2016, 9, 26, 9, 16, 23), datetime.datetime(2016, 9, 26, 9, 16, 36), datetime.datetime(2016, 9, 26, 9, 16, 40), datetime.datetime(2016, 9, 26, 9, 21, 7), datetime.datetime(2016, 9, 26, 9, 25, 24), datetime.datetime(2016, 9, 26, 9, 25, 34), datetime.datetime(2016, 9, 26, 10, 13, 38), datetime.datetime(2016, 9, 26, 12, 11, 36), datetime.datetime(2016, 9, 28, 8, 44, 24), datetime.datetime(2016, 9, 28, 8, 44, 55), datetime.datetime(2016, 9, 28, 8, 45, 6), datetime.datetime(2016, 9, 28, 8, 45, 35), datetime.datetime(2016, 9, 28, 8, 45, 49), datetime.datetime(2016, 9, 28, 8, 45, 49), datetime.datetime(2016, 9, 28, 8, 45, 51), datetime.datetime(2016, 9, 28, 8, 45, 52), datetime.datetime(2016, 9, 28, 8, 52, 37), datetime.datetime(2016, 9, 28, 8, 53, 52), datetime.datetime(2016, 9, 28, 8, 53, 52), datetime.datetime(2016, 9, 28, 8, 54, 37), datetime.datetime(2016, 9, 28, 8, 54, 47), datetime.datetime(2016, 9, 28, 20, 37, 35), datetime.datetime(2016, 9, 28, 20, 38, 8), datetime.datetime(2016, 9, 28, 20, 39, 9), datetime.datetime(2016, 9, 30, 8, 17), datetime.datetime(2016, 9, 30, 8, 17, 15), datetime.datetime(2016, 9, 30, 8, 17, 26), datetime.datetime(2016, 9, 30, 8, 17, 26), datetime.datetime(2016, 9, 30, 8, 17, 58), datetime.datetime(2016, 9, 30, 8, 18, 4), datetime.datetime(2016, 9, 30, 8, 18, 10), datetime.datetime(2016, 9, 30, 8, 19, 21), datetime.datetime(2016, 9, 30, 8, 19, 21), datetime.datetime(2016, 9, 30, 8, 23), datetime.datetime(2016, 10, 3, 9, 12, 27), datetime.datetime(2016, 10, 3, 9, 12, 29), datetime.datetime(2016, 10, 3, 9, 12, 38), datetime.datetime(2016, 10, 3, 9, 12, 44), datetime.datetime(2016, 10, 3, 9, 12, 48), datetime.datetime(2016, 10, 3, 9, 13, 1), datetime.datetime(2016, 10, 3, 9, 13, 3), datetime.datetime(2016, 10, 3, 9, 13, 7), datetime.datetime(2016, 10, 3, 9, 13, 7), datetime.datetime(2016, 10, 3, 9, 16, 5), datetime.datetime(2016, 10, 3, 9, 17, 30), datetime.datetime(2016, 10, 3, 9, 17, 30), datetime.datetime(2016, 10, 3, 12, 35, 28), datetime.datetime(2016, 10, 3, 12, 35, 43), datetime.datetime(2016, 10, 3, 12, 36, 17), datetime.datetime(2016, 10, 3, 13, 34, 1), datetime.datetime(2016, 10, 3, 13, 34, 19), datetime.datetime(2016, 10, 3, 13, 34, 37), datetime.datetime(2016, 10, 4, 12, 37, 26), datetime.datetime(2016, 10, 4, 19, 45, 55), datetime.datetime(2016, 10, 4, 19, 46, 2), datetime.datetime(2016, 10, 4, 19, 54, 40), datetime.datetime(2016, 10, 4, 21, 11, 39), datetime.datetime(2016, 10, 4, 21, 11, 47), datetime.datetime(2016, 10, 4, 22, 20, 10), datetime.datetime(2016, 10, 4, 22, 20, 16), datetime.datetime(2016, 10, 5, 0, 0, 16), datetime.datetime(2016, 10, 5, 0, 0, 23), datetime.datetime(2016, 10, 5, 0, 53, 26), datetime.datetime(2016, 10, 5, 0, 53, 39), datetime.datetime(2016, 10, 5, 0, 53, 55), datetime.datetime(2016, 10, 5, 0, 54, 20), datetime.datetime(2016, 10, 5, 9, 25, 12), datetime.datetime(2016, 10, 5, 9, 25, 22), datetime.datetime(2016, 10, 5, 9, 25, 22), datetime.datetime(2016, 10, 5, 9, 25, 43), datetime.datetime(2016, 10, 5, 9, 25, 45), datetime.datetime(2016, 10, 5, 9, 25, 59), datetime.datetime(2016, 10, 5, 9, 26, 4), datetime.datetime(2016, 10, 5, 9, 26, 19), datetime.datetime(2016, 10, 5, 9, 26, 19), datetime.datetime(2016, 10, 5, 9, 29, 19), datetime.datetime(2016, 10, 5, 12, 49, 31), datetime.datetime(2016, 10, 5, 12, 55, 52), datetime.datetime(2016, 10, 5, 12, 56, 4), datetime.datetime(2016, 10, 5, 12, 56, 31), datetime.datetime(2016, 10, 5, 12, 56, 35), datetime.datetime(2016, 10, 5, 14, 17, 26), datetime.datetime(2016, 10, 5, 14, 32, 53), datetime.datetime(2016, 10, 5, 15, 38, 2), datetime.datetime(2016, 10, 5, 15, 38, 20), datetime.datetime(2016, 10, 6, 21, 44, 28), datetime.datetime(2016, 10, 6, 21, 45, 12), datetime.datetime(2016, 10, 6, 21, 45, 31), datetime.datetime(2016, 10, 6, 22, 38, 4), datetime.datetime(2016, 10, 6, 22, 38, 7), datetime.datetime(2016, 10, 6, 22, 38, 13), datetime.datetime(2016, 10, 6, 22, 38, 17), datetime.datetime(2016, 10, 6, 22, 38, 40), datetime.datetime(2016, 10, 6, 22, 38, 47), datetime.datetime(2016, 10, 6, 23, 25, 21), datetime.datetime(2016, 10, 6, 23, 25, 28), datetime.datetime(2016, 10, 6, 23, 25, 28), datetime.datetime(2016, 10, 6, 23, 25, 30), datetime.datetime(2016, 10, 6, 23, 25, 31), datetime.datetime(2016, 10, 6, 23, 28, 25), datetime.datetime(2016, 10, 6, 23, 29, 38), datetime.datetime(2016, 10, 6, 23, 29, 38), datetime.datetime(2016, 10, 6, 23, 29, 58), datetime.datetime(2016, 10, 7, 1, 50, 58), datetime.datetime(2016, 10, 7, 1, 51, 5), datetime.datetime(2016, 10, 7, 1, 51, 46), datetime.datetime(2016, 10, 9, 23, 45, 34), datetime.datetime(2016, 10, 9, 23, 47, 7), datetime.datetime(2016, 10, 9, 23, 53, 53), datetime.datetime(2016, 10, 9, 23, 54, 1), datetime.datetime(2016, 10, 9, 23, 54, 2), datetime.datetime(2016, 10, 9, 23, 54, 52), datetime.datetime(2016, 10, 10, 23, 43, 21), datetime.datetime(2016, 10, 10, 23, 43, 34), datetime.datetime(2016, 10, 10, 23, 43, 34), datetime.datetime(2016, 10, 11, 0, 2, 2), datetime.datetime(2016, 10, 11, 0, 2, 8), datetime.datetime(2016, 10, 11, 23, 57, 48), datetime.datetime(2016, 10, 11, 23, 57, 58), datetime.datetime(2016, 10, 11, 23, 57, 58), datetime.datetime(2016, 10, 11, 23, 58, 28), datetime.datetime(2016, 10, 11, 23, 58, 28), datetime.datetime(2016, 10, 12, 0, 2, 40), datetime.datetime(2016, 10, 12, 0, 2, 58), datetime.datetime(2016, 10, 12, 0, 2, 59), datetime.datetime(2016, 10, 12, 0, 3, 33), datetime.datetime(2016, 10, 12, 13, 35, 5), datetime.datetime(2016, 10, 12, 13, 35, 16), datetime.datetime(2016, 10, 12, 13, 40, 57), datetime.datetime(2016, 10, 12, 13, 42, 13), datetime.datetime(2016, 10, 12, 16, 22, 47), datetime.datetime(2016, 10, 12, 16, 22, 58), datetime.datetime(2016, 10, 13, 13, 24, 15), datetime.datetime(2016, 10, 13, 13, 24, 35), datetime.datetime(2016, 10, 14, 14, 46, 21), datetime.datetime(2016, 10, 14, 14, 46, 30), datetime.datetime(2016, 10, 14, 14, 46, 37), datetime.datetime(2016, 10, 14, 14, 46, 42), datetime.datetime(2016, 10, 14, 14, 46, 53), datetime.datetime(2016, 10, 14, 14, 47, 16), datetime.datetime(2016, 10, 17, 5, 22, 36), datetime.datetime(2016, 10, 17, 5, 22, 50), datetime.datetime(2016, 10, 17, 5, 22, 53), datetime.datetime(2016, 10, 17, 5, 23, 7), datetime.datetime(2016, 10, 17, 6, 20, 22), datetime.datetime(2016, 10, 17, 6, 20, 34), datetime.datetime(2016, 10, 18, 14, 55, 45), datetime.datetime(2016, 10, 18, 15, 17, 36), datetime.datetime(2016, 10, 18, 15, 17, 36), datetime.datetime(2016, 10, 18, 15, 17, 55), datetime.datetime(2016, 10, 18, 15, 18), datetime.datetime(2016, 10, 18, 16, 31, 33), datetime.datetime(2016, 10, 18, 16, 31, 45), datetime.datetime(2016, 10, 18, 16, 56, 45), datetime.datetime(2016, 10, 18, 16, 56, 45), datetime.datetime(2016, 10, 19, 14, 20, 11), datetime.datetime(2016, 10, 19, 14, 20, 19), datetime.datetime(2016, 10, 19, 14, 58, 40), datetime.datetime(2016, 10, 19, 14, 58, 46), datetime.datetime(2016, 10, 19, 15, 3, 20), datetime.datetime(2016, 10, 19, 15, 12, 51), datetime.datetime(2016, 10, 20, 16, 52, 54), datetime.datetime(2016, 10, 20, 16, 54, 16), datetime.datetime(2016, 10, 20, 16, 54, 22), datetime.datetime(2016, 10, 20, 16, 54, 30), datetime.datetime(2016, 10, 20, 16, 54, 41), datetime.datetime(2016, 10, 20, 20, 23, 9), datetime.datetime(2016, 10, 20, 20, 23, 40), datetime.datetime(2016, 10, 20, 20, 27, 7), datetime.datetime(2016, 10, 20, 20, 30, 57), datetime.datetime(2016, 10, 20, 20, 31, 50), datetime.datetime(2016, 10, 20, 20, 32, 26), datetime.datetime(2016, 10, 20, 20, 45, 54), datetime.datetime(2016, 10, 20, 20, 46, 18), datetime.datetime(2016, 10, 20, 20, 46, 18), datetime.datetime(2016, 10, 20, 20, 46, 21), datetime.datetime(2016, 10, 20, 20, 46, 21), datetime.datetime(2016, 10, 20, 20, 47, 18), datetime.datetime(2016, 10, 20, 20, 47, 26), datetime.datetime(2016, 10, 20, 20, 47, 34), datetime.datetime(2016, 10, 20, 20, 47, 57), datetime.datetime(2016, 10, 20, 20, 48, 1), datetime.datetime(2016, 10, 20, 20, 48, 5), datetime.datetime(2016, 10, 20, 20, 53, 59), datetime.datetime(2016, 10, 20, 20, 57, 55), datetime.datetime(2016, 10, 21, 2, 48), datetime.datetime(2016, 10, 26, 15, 23, 48), datetime.datetime(2016, 10, 26, 15, 29, 16), datetime.datetime(2016, 10, 26, 15, 31, 16), datetime.datetime(2016, 10, 26, 15, 31, 21), datetime.datetime(2016, 10, 28, 9, 44, 58), datetime.datetime(2016, 10, 28, 9, 45, 26), datetime.datetime(2016, 10, 28, 9, 45, 32), datetime.datetime(2016, 10, 28, 9, 45, 41), datetime.datetime(2016, 10, 28, 9, 45, 48), datetime.datetime(2016, 10, 28, 9, 45, 48), datetime.datetime(2016, 10, 28, 9, 45, 50), datetime.datetime(2016, 10, 28, 9, 45, 51), datetime.datetime(2016, 10, 31, 9, 40, 44), datetime.datetime(2016, 10, 31, 9, 41, 8), datetime.datetime(2016, 10, 31, 9, 41, 22), datetime.datetime(2016, 10, 31, 9, 41, 28), datetime.datetime(2016, 10, 31, 9, 41, 49), datetime.datetime(2016, 10, 31, 9, 41, 52), datetime.datetime(2016, 10, 31, 9, 41, 52), datetime.datetime(2016, 10, 31, 9, 43, 14), datetime.datetime(2016, 10, 31, 9, 43, 51), datetime.datetime(2016, 10, 31, 9, 45, 21), datetime.datetime(2016, 10, 31, 9, 46, 5), datetime.datetime(2016, 10, 31, 9, 46, 5), datetime.datetime(2016, 10, 31, 9, 47, 15), datetime.datetime(2016, 11, 2, 7, 34, 17), datetime.datetime(2016, 11, 2, 7, 35, 17), datetime.datetime(2016, 11, 2, 7, 35, 17), datetime.datetime(2016, 11, 2, 7, 35, 27), datetime.datetime(2016, 11, 2, 7, 35, 32), datetime.datetime(2016, 11, 2, 7, 35, 40), datetime.datetime(2016, 11, 2, 7, 35, 56), datetime.datetime(2016, 11, 2, 7, 35, 56), datetime.datetime(2016, 11, 2, 7, 35, 59), datetime.datetime(2016, 11, 2, 7, 35, 59), datetime.datetime(2016, 11, 2, 7, 41, 52), datetime.datetime(2016, 11, 2, 7, 44, 3), datetime.datetime(2016, 11, 2, 7, 44, 19), datetime.datetime(2016, 11, 4, 9, 35, 32), datetime.datetime(2016, 11, 4, 12, 46, 7), datetime.datetime(2016, 11, 4, 12, 46, 24), datetime.datetime(2016, 11, 4, 12, 49), datetime.datetime(2016, 11, 4, 12, 53, 6), datetime.datetime(2016, 11, 4, 12, 53, 12), datetime.datetime(2016, 11, 4, 12, 53, 15), datetime.datetime(2016, 11, 4, 12, 53, 21), datetime.datetime(2016, 11, 4, 12, 53, 22), datetime.datetime(2016, 11, 16, 10, 47, 17), datetime.datetime(2016, 11, 16, 10, 47, 39), datetime.datetime(2016, 11, 16, 14, 39, 10), datetime.datetime(2016, 11, 16, 14, 40, 37), datetime.datetime(2016, 11, 16, 14, 40, 44), datetime.datetime(2016, 11, 16, 14, 41, 4), datetime.datetime(2016, 11, 16, 14, 41, 29), datetime.datetime(2016, 11, 16, 14, 41, 34), datetime.datetime(2016, 11, 16, 16, 24, 32), datetime.datetime(2016, 11, 16, 16, 24, 38), datetime.datetime(2016, 11, 16, 17, 46, 4), datetime.datetime(2016, 11, 16, 17, 46, 11), datetime.datetime(2016, 11, 18, 2, 29, 15), datetime.datetime(2016, 11, 18, 2, 30, 15), datetime.datetime(2016, 11, 18, 2, 30, 29), datetime.datetime(2016, 11, 18, 2, 30, 34), datetime.datetime(2016, 11, 18, 2, 30, 39), datetime.datetime(2016, 11, 18, 2, 31, 2), datetime.datetime(2016, 11, 18, 2, 31, 2), datetime.datetime(2016, 11, 18, 2, 31, 6), datetime.datetime(2016, 11, 18, 2, 31, 6), datetime.datetime(2016, 11, 18, 2, 33, 22), datetime.datetime(2016, 11, 18, 2, 33, 42), datetime.datetime(2016, 11, 18, 2, 33, 42), datetime.datetime(2016, 11, 18, 2, 33, 51), datetime.datetime(2016, 11, 18, 2, 34, 5), datetime.datetime(2016, 11, 18, 2, 34, 6), datetime.datetime(2016, 11, 18, 2, 34, 20), datetime.datetime(2016, 11, 18, 2, 34, 59), datetime.datetime(2016, 11, 18, 2, 34, 59), datetime.datetime(2016, 11, 18, 2, 35, 6), datetime.datetime(2016, 11, 18, 2, 35, 14), datetime.datetime(2016, 11, 18, 2, 35, 35), datetime.datetime(2016, 11, 18, 2, 35, 40), datetime.datetime(2016, 11, 18, 2, 35, 50), datetime.datetime(2016, 11, 18, 2, 35, 57), datetime.datetime(2016, 11, 18, 2, 35, 57), datetime.datetime(2016, 11, 18, 2, 37, 10), datetime.datetime(2016, 11, 18, 2, 37, 11), datetime.datetime(2016, 11, 18, 2, 39, 39), datetime.datetime(2016, 11, 18, 2, 39, 58), datetime.datetime(2016, 11, 18, 2, 39, 59), datetime.datetime(2016, 11, 18, 2, 40, 13), datetime.datetime(2016, 11, 21, 10, 41, 39), datetime.datetime(2016, 11, 21, 10, 41, 55), datetime.datetime(2016, 11, 21, 10, 41, 56), datetime.datetime(2016, 11, 21, 10, 42, 21), datetime.datetime(2016, 11, 21, 10, 42, 25), datetime.datetime(2016, 11, 21, 10, 42, 31), datetime.datetime(2016, 11, 21, 10, 42, 35), datetime.datetime(2016, 11, 21, 10, 42, 47), datetime.datetime(2016, 11, 21, 10, 42, 58), datetime.datetime(2016, 11, 21, 10, 43, 3), datetime.datetime(2016, 11, 21, 10, 43, 3), datetime.datetime(2016, 11, 21, 10, 49, 36), datetime.datetime(2016, 11, 21, 10, 50, 6), datetime.datetime(2016, 11, 21, 10, 50, 24), datetime.datetime(2016, 11, 21, 10, 50, 47), datetime.datetime(2016, 11, 21, 10, 50, 47), datetime.datetime(2016, 11, 21, 10, 50, 59), datetime.datetime(2016, 11, 23, 10, 46, 14), datetime.datetime(2016, 11, 23, 10, 46, 31), datetime.datetime(2016, 11, 23, 10, 46, 31), datetime.datetime(2016, 11, 23, 10, 46, 48), datetime.datetime(2016, 11, 23, 10, 46, 54), datetime.datetime(2016, 11, 23, 10, 47, 3), datetime.datetime(2016, 11, 23, 10, 47, 21), datetime.datetime(2016, 11, 23, 10, 47, 25), datetime.datetime(2016, 11, 23, 10, 47, 26), datetime.datetime(2016, 11, 23, 10, 50, 17), datetime.datetime(2016, 11, 25, 21, 49, 9), datetime.datetime(2016, 11, 25, 21, 49, 20), datetime.datetime(2016, 11, 25, 21, 49, 38), datetime.datetime(2016, 11, 25, 21, 50, 18), datetime.datetime(2016, 11, 27, 19, 16), datetime.datetime(2016, 11, 27, 19, 16, 15), datetime.datetime(2016, 11, 28, 13, 36, 25), datetime.datetime(2016, 11, 28, 13, 36, 30), datetime.datetime(2016, 11, 28, 23, 55, 10), datetime.datetime(2016, 11, 28, 23, 55, 35), datetime.datetime(2016, 11, 28, 23, 55, 42), datetime.datetime(2016, 11, 28, 23, 55, 56), datetime.datetime(2016, 11, 28, 23, 57, 17), datetime.datetime(2016, 11, 28, 23, 57, 22), datetime.datetime(2016, 11, 28, 23, 57, 35), datetime.datetime(2016, 11, 29, 22, 28, 34), datetime.datetime(2016, 11, 29, 22, 29, 10), datetime.datetime(2016, 11, 29, 22, 29, 33), datetime.datetime(2016, 11, 30, 0, 33, 35), datetime.datetime(2016, 11, 30, 0, 33, 52), datetime.datetime(2016, 12, 2, 0, 22, 42), datetime.datetime(2016, 12, 2, 16, 56, 50), datetime.datetime(2016, 12, 2, 17, 0), datetime.datetime(2016, 12, 2, 22, 45, 21), datetime.datetime(2016, 12, 2, 22, 45, 27), datetime.datetime(2016, 12, 3, 2, 8, 44), datetime.datetime(2016, 12, 3, 2, 8, 50), datetime.datetime(2016, 12, 3, 2, 8, 56), datetime.datetime(2016, 12, 3, 2, 9, 5), datetime.datetime(2016, 12, 3, 2, 12, 43), datetime.datetime(2016, 12, 3, 2, 12, 46), datetime.datetime(2016, 12, 3, 2, 12, 51), datetime.datetime(2016, 12, 3, 2, 12, 56), datetime.datetime(2016, 12, 3, 2, 14, 31), datetime.datetime(2016, 12, 3, 2, 17, 31), datetime.datetime(2016, 12, 3, 2, 25, 37), datetime.datetime(2016, 12, 3, 2, 26, 24), datetime.datetime(2016, 12, 3, 2, 26, 39), datetime.datetime(2016, 12, 3, 4, 12, 23), datetime.datetime(2016, 12, 3, 4, 12, 32), datetime.datetime(2016, 12, 3, 12, 49, 37), datetime.datetime(2016, 12, 3, 12, 49, 40), datetime.datetime(2017, 1, 18, 19, 47, 19), datetime.datetime(2017, 1, 18, 19, 47, 29), datetime.datetime(2017, 1, 18, 19, 47, 39)], 'interact_secs': ['', '', '', '', '', '', '', '', '', '', '', '', '', '', '', '', '', '21.0', '', '', '', '', '', '', '', '', '', '', '', '', '', '', '', '', '', '', '', '', '', '', '', '15.0', '', '', '', '', '', '', '', '', '', '', '', '', '', '', '', '', '', '', '', '', '', '', '', '', '', '', '', '', '', '', '', '', '', '', '', '', '', '', '', '', '', '', '', '', '', '', '', '', '', '', '', '', '', '', '', '', '', '', '', '', '', '', '', '', '', '', '', '', '', '', '', '', '', '', '', '', '', '', '', '', '', '', '', '', '', '', '11.0', '', '', '11.0', '', '19.0', '', '', '', '12.0', '', '', '13.0', '', '', '', '', '', '', '', '', '', '', '', '', '', '', '', '', '', '', '38.0', '', '', '', '', '', '', '', '', '', '', '', '', '18.0', '', '', '', '', '', '', '', '', '', '36.0', '', '35.0', '', '49.0', '', '', '', '', '', '', '', '', '', '', '17.0', '', '', '', '', '20.0', '', '', '', '', '', '', '', '11.0', '', '', '', '', '', '', '', '', '', '', '', '', '', '', '', '', '', '', '', '', '', '', '', '', '', '11.0', '', '', '', '', '', '', '', '', '', '14.0', '', '', '', '', '', '', '', '', '', '', '', '', '', '', '', '', '', '', '', '', '', '', '', '', '', '', '', '', '', '', '', '', '', '', '', '', '', '', '', '', '', '', '', '', '', '', '', '', '', '', '', '', '', '', '', '', '', '', '', '', '', '', '', '', '', '26.0', '', '', '', '', '', '', '', '', '', '', '', '', '', '', '', '', '', '', '', '', '', '', '', '36.0', '', '', '', '', '', '', '', '', '', '', '', '46.0', '14.0', '', '', '', '', '', '', '36.0', '', '', '', '', '', '', '21.0', '', '17.0', '', '20.0', '', '', '17.0', '', '', ''], 'action': ['show', 'index', 'index', 'grade_summary', 'roster', 'index', 'show', 'show', 'show', 'show', 'show', 'show', 'show', 'show', 'index', 'show', 'show', 'show', 'show', 'show', 'show', 'grade_summary', 'index', 'show', 'show', 'show', 'show', 'index', 'show', 'show', 'show', 'grade_summary', 'show', 'show', 'show', 'roster', 'show', 'index', 'show', 'show', 'show', 'show', 'show', 'show', 'show', 'show', 'grade_summary', 'show', 'index', 'show', 'show', 'index', 'show', 'show', 'show', 'index', 'show', 'show', 'show', 'show', 'index', 'index', 'show', 'index', 'show', 'show', 'show', 'show', 'show', 'show', 'show', 'show', 'show', 'index', 'show', 'index', 'show', 'grade_summary', 'index', 'show', 'index', 'show', 'index', 'show', 'index', 'show', 'index', 'show', 'index', 'index', 'index', 'show', 'show', 'show', 'show', 'show', 'show', 'show', 'index', 'show', 'show', 'show', 'show', 'index', 'show', 'index', 'show', 'index', 'show', 'index', 'show', 'show', 'index', 'show', 'show', 'index', 'show', 'index', 'index', 'show', 'index', 'show', 'show', 'show', 'show', 'show', 'show', 'show', 'show', 'show', 'roster', 'show', 'show', 'index', 'show', 'show', 'show', 'index', 'show', 'show', 'show', 'index', 'show', 'show', 'show', 'show', 'show', 'show', 'show', 'show', 'show', 'show', 'index', 'show', 'index', 'show', 'index', 'show', 'show', 'syllabus', 'show', 'grade_summary', 'show', 'syllabus', 'syllabus', 'syllabus', 'show', 'index', 'index', 'show', 'show', 'show', 'show', 'show', 'show', 'index', 'show', 'index', 'show', 'show', 'show', 'show', 'grade_summary', 'show', 'index', 'index', 'syllabus', 'show', 'index', 'index', 'index', 'syllabus', 'show', 'index', 'show', 'index', 'index', 'show', 'index', 'show', 'show', 'show', 'show', 'show', 'index', 'show', 'show', 'index', 'show', 'show', 'grade_summary', 'grade_summary', 'show', 'show', 'index', 'show', 'index', 'index', 'show', 'index', 'show', 'show', 'show', 'show', 'show', 'grade_summary', 'index', 'show', 'show', 'show', 'show', 'show', 'show', 'show', 'show', 'show', 'show', 'show', 'show', 'show', 'index', 'show', 'index', 'show', 'show', 'show', 'show', 'show', 'show', 'show', 'show', 'show', 'index', 'show', 'index', 'index', 'index', 'index', 'syllabus', 'show', 'index', 'show', 'index', 'index', 'index', 'index', 'show', 'index', 'show', 'show', 'syllabus', 'show', 'show', 'index', 'show', 'index', 'show', 'show', 'show', 'show', 'show', 'show', 'show', 'show', 'show', 'show', 'show', 'show', 'show', 'show', 'index', 'index', 'show', 'index', 'show', 'show', 'show', 'show', 'show', 'show', 'show', 'show', 'show', 'index', 'index', 'index', 'index', 'index', 'show', 'index', 'show', 'show', 'show', 'show', 'show', 'show', 'show', 'show', 'show', 'show', 'show', 'show', 'index', 'show', 'index', 'show', 'show', 'show', 'show', 'show', 'grade_summary', 'syllabus', 'syllabus', 'show', 'syllabus', 'show', 'syllabus', 'show', 'index', 'index', 'index', 'show', 'syllabus', 'show', 'show', 'show', 'show', 'show', 'syllabus', 'index', 'show', 'syllabus', 'show', 'syllabus', 'show', 'index', 'index', 'show', 'grade_summary', 'index', 'index', 'syllabus', 'syllabus', 'syllabus', 'show', 'index', 'show', 'index', 'show', 'show', 'syllabus', 'show', 'index', 'show'], 'remote_ip': ['128.195.99.63', '128.195.99.63', '128.195.99.63', '128.195.99.63', '128.195.99.63', '128.195.99.63', '128.195.99.63', '128.195.99.25', '128.195.99.25', '128.195.99.25', '128.195.99.25', '128.195.99.25', '128.195.99.25', '128.195.99.25', '128.195.99.25', '128.195.99.25', '128.195.99.25', '128.195.99.25', '128.195.99.25', '128.195.99.25', '128.195.99.25', '128.195.99.25', '128.195.99.25', '128.195.99.25', '128.195.99.25', '128.195.99.25', '128.195.99.25', '128.195.99.25', '128.195.99.25', '128.195.99.25', '128.195.99.25', '128.195.99.25', '169.234.81.35', '169.234.81.35', '128.195.99.75', '128.195.99.75', '128.195.99.75', '128.195.99.75', '128.195.99.75', '128.195.99.75', '128.195.99.75', '128.195.99.75', '128.195.99.75', '128.195.99.75', '128.195.99.75', '128.195.99.75', '128.195.99.75', '128.195.99.75', '128.195.99.75', '128.195.99.75', '128.195.96.28', '128.195.96.28', '128.195.96.28', '128.195.96.28', '128.195.96.28', '128.195.96.28', '128.195.96.28', '128.195.96.28', '128.195.96.28', '128.195.96.28', '128.195.99.210', '128.195.99.210', '128.195.99.210', '128.195.99.210', '128.195.99.210', '128.195.99.210', '128.195.99.210', '128.195.99.210', '128.195.99.210', '128.195.99.210', '128.195.99.210', '128.195.99.210', '169.234.80.80', '169.234.80.80', '169.234.80.80', '169.234.80.80', '169.234.80.80', '169.234.80.80', '169.234.44.128', '128.195.97.106', '128.195.97.106', '128.195.97.106', '128.195.97.106', '128.195.97.106', '128.195.97.106', '128.195.97.106', '128.195.97.106', '128.195.97.106', '128.195.97.106', '128.195.97.106', '128.195.97.106', '128.195.97.106', '128.195.97.106', '128.195.97.106', '128.195.97.106', '128.195.97.106', '128.195.97.106', '128.195.97.106', '128.195.97.106', '128.195.97.106', '128.195.97.106', '128.195.97.106', '169.234.115.163', '169.234.115.163', '169.234.115.163', '169.234.115.163', '169.234.115.163', '169.234.115.163', '169.234.115.163', '169.234.115.163', '169.234.115.163', '128.195.99.85', '128.195.99.85', '128.195.99.85', '128.195.99.85', '128.195.99.85', '128.195.99.85', '128.195.99.85', '128.195.99.85', '128.195.99.85', '128.195.99.85', '128.195.99.85', '128.195.99.85', '128.195.99.85', '128.195.99.85', '128.195.99.85', '128.195.99.85', '128.195.99.85', '128.195.99.85', '128.195.99.85', '128.195.99.85', '128.195.99.85', '128.195.98.196', '128.195.98.196', '128.195.98.196', '128.195.98.196', '128.195.98.196', '128.195.98.196', '128.195.96.44', '128.195.96.44', '128.195.96.44', '128.195.96.44', '128.195.96.44', '128.195.98.117', '128.195.98.117', '128.195.98.117', '128.195.98.117', '128.195.98.117', '128.195.98.117', '128.195.98.117', '128.195.98.117', '128.195.98.117', '128.195.98.117', '128.195.98.117', '128.195.98.117', '128.195.98.117', '169.234.97.86', '169.234.97.86', '169.234.44.152', '169.234.44.152', '128.195.98.117', '128.195.98.117', '128.195.98.117', '128.195.98.117', '128.195.98.117', '128.195.98.117', '128.195.98.117', '128.195.98.117', '128.195.98.117', '128.195.98.117', '128.195.98.117', '128.195.98.117', '169.234.98.46', '169.234.98.46', '169.234.98.46', '169.234.98.46', '169.234.98.46', '169.234.98.46', '169.234.98.46', '169.234.98.46', '169.234.98.46', '128.195.98.163', '128.195.98.163', '128.195.98.163', '128.195.98.163', '128.195.98.163', '128.195.98.163', '128.195.70.122', '128.195.70.122', '128.195.70.122', '128.195.70.122', '128.195.70.122', '128.195.68.150', '128.195.68.150', '128.195.68.150', '128.195.68.150', '128.195.68.150', '128.195.68.150', '128.195.68.150', '128.195.68.150', '128.195.68.150', '128.195.68.150', '128.195.68.150', '128.195.68.150', '128.195.68.150', '128.195.68.150', '128.195.68.150', '128.195.68.150', '128.195.68.150', '128.195.68.150', '128.195.68.150', '128.195.98.163', '68.96.84.23', '68.96.84.23', '68.96.84.23', '68.96.84.23', '128.195.98.220', '128.195.98.220', '128.195.98.220', '128.195.98.220', '128.195.98.220', '128.195.98.220', '128.195.98.220', '128.195.98.220', '128.195.98.220', '128.195.98.220', '128.195.98.220', '128.195.98.220', '128.195.98.220', '128.195.98.220', '128.195.98.220', '128.195.98.220', '128.195.98.220', '128.195.98.220', '128.195.98.220', '128.195.98.220', '128.195.98.220', '128.195.99.227', '128.195.99.227', '128.195.99.227', '128.195.99.227', '128.195.99.227', '128.195.99.227', '128.195.99.227', '128.195.99.227', '128.195.99.227', '128.195.99.227', '128.195.99.227', '128.195.99.227', '128.195.99.227', '128.195.96.102', '128.195.96.102', '128.195.96.102', '128.195.96.102', '128.195.96.102', '128.195.96.102', '128.195.96.102', '128.195.96.102', '128.195.96.102', '128.195.98.64', '128.195.98.64', '169.234.89.130', '169.234.89.130', '169.234.89.130', '169.234.89.130', '169.234.89.130', '169.234.89.130', '128.195.98.64', '128.195.98.64', '169.234.120.174', '169.234.120.174', '128.195.77.32', '128.195.77.32', '128.195.77.32', '128.195.77.32', '128.195.77.32', '128.195.77.32', '128.195.77.32', '128.195.77.32', '128.195.77.32', '128.195.77.32', '128.195.77.32', '128.195.77.32', '128.195.77.32', '128.195.77.32', '128.195.77.32', '128.195.77.32', '128.195.77.32', '128.195.77.32', '128.195.77.32', '128.195.77.32', '128.195.77.32', '128.195.77.32', '128.195.77.32', '128.195.77.32', '128.195.77.32', '128.195.77.32', '128.195.77.32', '128.195.77.32', '128.195.77.32', '128.195.77.32', '128.195.77.32', '128.195.97.8', '128.195.97.8', '128.195.97.8', '128.195.97.8', '128.195.97.8', '128.195.97.8', '128.195.97.8', '128.195.97.8', '128.195.97.8', '128.195.97.8', '128.195.97.8', '128.195.97.8', '128.195.97.8', '128.195.97.8', '128.195.97.8', '128.195.97.8', '128.195.97.8', '128.195.97.18', '128.195.97.18', '128.195.97.18', '128.195.97.18', '128.195.97.18', '128.195.97.18', '128.195.97.18', '128.195.97.18', '128.195.97.18', '128.195.97.18', '47.33.108.97', '47.33.108.97', '47.33.108.97', '47.33.108.97', '128.195.64.101', '128.195.64.101', '169.234.108.124', '169.234.108.124', '128.195.96.247', '128.195.96.247', '128.195.96.247', '128.195.96.247', '128.195.96.247', '128.195.96.247', '128.195.96.247', '128.195.96.247', '128.195.96.247', '128.195.96.247', '128.195.96.247', '128.195.96.247', '128.195.99.149', '128.195.78.133', '128.195.78.133', '128.195.79.164', '128.195.79.164', '128.195.79.164', '128.195.79.164', '128.195.79.164', '128.195.79.164', '128.195.79.164', '128.195.79.164', '128.195.79.164', '128.195.79.164', '128.195.79.164', '128.195.79.164', '128.195.79.164', '128.195.79.164', '128.195.79.164', '128.195.79.164', '128.195.79.164', '128.195.99.149', '128.195.99.149', '128.195.98.184', '128.195.98.184', '128.195.98.184']}\n"
     ]
    }
   ],
   "source": [
    "# data checking\n",
    "print csv_data.keys()\n",
    "print csv_data[211456]"
   ]
  },
  {
   "cell_type": "markdown",
   "metadata": {},
   "source": [
    "# Get number of clicks per day matrix"
   ]
  },
  {
   "cell_type": "code",
   "execution_count": 24,
   "metadata": {
    "collapsed": true
   },
   "outputs": [],
   "source": [
    "\n",
    "def get_num_clicks_per_day(student_data, days_limit, first_day, type='all'):\n",
    "    \"\"\"\n",
    "    Parameters\n",
    "    ----------\n",
    "    student_data : dict\n",
    "        dictionary for each student. (One entry of canvas_data.) It should have 'created_at' entry.\n",
    "\n",
    "    Returns\n",
    "    -------\n",
    "        np.array\n",
    "        numpy array with length 'days_limit'\n",
    "        Histogram (counts) of the student as a function of time.\n",
    "\n",
    "    \"\"\"\n",
    "    hist_array = np.zeros(days_limit, dtype=np.int32)\n",
    "    if type == 'all':  # Default\n",
    "        for time in student_data['created_at']:\n",
    "            delta = time - first_day\n",
    "            if delta.days < days_limit:\n",
    "                hist_array[delta.days] += 1\n",
    "    else:\n",
    "        for i, time in enumerate(student_data['created_at']):\n",
    "            cat = get_cats_from_url(student_data['url'][i], depth=1)\n",
    "            if cat == type:\n",
    "                delta = time - first_day\n",
    "                if delta.days < days_limit:\n",
    "                    hist_array[delta.days] += 1\n",
    "    return hist_array\n",
    "\n",
    "\n",
    "def get_num_clicks_per_day_mat(csvdata, n_students, days_limit, first_day, idx2id, type='all'):\n",
    "    \"\"\"\n",
    "    Get (num_student X num_days) matrix\n",
    "    where each row is the number of click events per day for each student.\n",
    "    Returns\n",
    "    -------\n",
    "        np.array\n",
    "\n",
    "    \"\"\"\n",
    "    clicks_per_day_mat = np.zeros((n_students, days_limit), dtype=np.int32)\n",
    "    for idx, random_id in enumerate(idx2id):\n",
    "        student = csvdata[random_id]\n",
    "        clicks_per_day_mat[idx] = get_num_clicks_per_day(student, days_limit, first_day, type)\n",
    "    return clicks_per_day_mat"
   ]
  },
  {
   "cell_type": "code",
   "execution_count": 26,
   "metadata": {
    "collapsed": false
   },
   "outputs": [
    {
     "name": "stdout",
     "output_type": "stream",
     "text": [
      "[[0 0 0 ..., 0 0 0]\n",
      " [0 0 0 ..., 0 0 2]\n",
      " [0 0 0 ..., 0 0 0]\n",
      " ..., \n",
      " [0 0 0 ..., 0 0 0]\n",
      " [0 0 0 ..., 0 0 0]\n",
      " [0 0 0 ..., 0 0 0]]\n"
     ]
    }
   ],
   "source": [
    "click_mat = get_num_clicks_per_day_mat(csv_data, n_students, days_limit, first_day, idx2id)\n",
    "print click_mat"
   ]
  },
  {
   "cell_type": "code",
   "execution_count": 27,
   "metadata": {
    "collapsed": false
   },
   "outputs": [
    {
     "data": {
      "text/plain": [
       "<Container object of 90 artists>"
      ]
     },
     "execution_count": 27,
     "metadata": {},
     "output_type": "execute_result"
    },
    {
     "data": {
      "image/png": "[encoded data removed]",
      "text/plain": [
       "<matplotlib.figure.Figure at 0x105c20850>"
      ]
     },
     "metadata": {},
     "output_type": "display_data"
    }
   ],
   "source": [
    "plt.bar(range(days_limit), np.mean(click_mat, axis=0))"
   ]
  },
  {
   "cell_type": "markdown",
   "metadata": {
    "collapsed": false
   },
   "source": [
    "# Load the quiz_url description file"
   ]
  },
  {
   "cell_type": "code",
   "execution_count": 33,
   "metadata": {
    "collapsed": false
   },
   "outputs": [],
   "source": [
    "quiz_url_file = os.path.join(data_dir, 'quiz_url_descriptions.csv')\n",
    "with open(quiz_url_file, 'r') as f:\n",
    "    reader = csv.reader(f, delimiter=',')\n",
    "    header = reader.next()\n",
    "    for line in reader:\n",
    "        q_num = line[0]\n",
    "        q_name = line[1]\n",
    "        q_pnts = line[2]\n",
    "        q_open_date = line[3]\n",
    "        break"
   ]
  },
  {
   "cell_type": "code",
   "execution_count": 34,
   "metadata": {
    "collapsed": false
   },
   "outputs": [
    {
     "data": {
      "text/plain": [
       "'Sep 23, 2016 at 10:50am'"
      ]
     },
     "execution_count": 34,
     "metadata": {},
     "output_type": "execute_result"
    }
   ],
   "source": [
    "q_open_date"
   ]
  },
  {
   "cell_type": "code",
   "execution_count": 37,
   "metadata": {
    "collapsed": false
   },
   "outputs": [
    {
     "name": "stdout",
     "output_type": "stream",
     "text": [
      "Help on built-in function strptime:\n",
      "\n",
      "strptime(...)\n",
      "    string, format -> new datetime parsed from a string (like time.strptime()).\n",
      "\n"
     ]
    }
   ],
   "source": [
    "help(datetime.strptime)"
   ]
  },
  {
   "cell_type": "code",
   "execution_count": 42,
   "metadata": {
    "collapsed": false
   },
   "outputs": [
    {
     "data": {
      "text/plain": [
       "datetime.datetime(2016, 9, 23, 10, 50)"
      ]
     },
     "execution_count": 42,
     "metadata": {},
     "output_type": "execute_result"
    }
   ],
   "source": [
    "datetime.strptime(q_open_date, \"%b %d, %Y at %I:%M%p\")"
   ]
  },
  {
   "cell_type": "code",
   "execution_count": null,
   "metadata": {
    "collapsed": true
   },
   "outputs": [],
   "source": []
  }
 ],
 "metadata": {
  "anaconda-cloud": {},
  "kernelspec": {
   "display_name": "Python [conda root]",
   "language": "python",
   "name": "conda-root-py"
  },
  "language_info": {
   "codemirror_mode": {
    "name": "ipython",
    "version": 2
   },
   "file_extension": ".py",
   "mimetype": "text/x-python",
   "name": "python",
   "nbconvert_exporter": "python",
   "pygments_lexer": "ipython2",
   "version": "2.7.12"
  }
 },
 "nbformat": 4,
 "nbformat_minor": 1
}
